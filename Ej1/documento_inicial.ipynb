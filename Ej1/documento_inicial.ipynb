{
 "cells": [
  {
   "cell_type": "markdown",
   "id": "77d27cb8",
   "metadata": {},
   "source": [
    "# Cabecera H1 \n",
    "## Cabecera H2: Probando distintos estilos de texto.\n",
    "### Cabecera H3: Tipos de letra.\n",
    "\n",
    "Puedo escribir texto normal.\n",
    "\n",
    "_Con un guión bajo escribo en itálica_.\n",
    "\n",
    "__Con dos guiones bajos escribo en negrita__.\n",
    "\n",
    "### Cabecera de tipo H3: Lista de items.\n",
    "\n",
    "* Item 1\n",
    "* Item 2\n",
    "* Item 3 : para los items utilizamos el símbolo '*' al comienzo.\n",
    "    * Item 3a  \n",
    "    * Item 3b: para los sub-items utilizamos el tabulador  yel símbolo '*' al comienzo.\n",
    "    * Item 3c\n",
    "\n",
    "# Otra cabecera H1\n"
   ]
  },
  {
   "cell_type": "code",
   "execution_count": 1,
   "id": "c1b15f02",
   "metadata": {},
   "outputs": [
    {
     "data": {
      "text/plain": [
       "72"
      ]
     },
     "execution_count": 1,
     "metadata": {},
     "output_type": "execute_result"
    }
   ],
   "source": [
    "8 * (5 + 4)\n",
    "\n"
   ]
  },
  {
   "cell_type": "code",
   "execution_count": 2,
   "id": "147008b0",
   "metadata": {},
   "outputs": [
    {
     "data": {
      "text/plain": [
       "'C:\\\\Users\\\\andre\\\\Documents\\\\pythonCFI'"
      ]
     },
     "execution_count": 2,
     "metadata": {},
     "output_type": "execute_result"
    }
   ],
   "source": [
    "%pwd\n"
   ]
  },
  {
   "cell_type": "code",
   "execution_count": null,
   "id": "97ad7249",
   "metadata": {},
   "outputs": [],
   "source": []
  }
 ],
 "metadata": {
  "kernelspec": {
   "display_name": "Python 3 (ipykernel)",
   "language": "python",
   "name": "python3"
  },
  "language_info": {
   "codemirror_mode": {
    "name": "ipython",
    "version": 3
   },
   "file_extension": ".py",
   "mimetype": "text/x-python",
   "name": "python",
   "nbconvert_exporter": "python",
   "pygments_lexer": "ipython3",
   "version": "3.11.5"
  }
 },
 "nbformat": 4,
 "nbformat_minor": 5
}
