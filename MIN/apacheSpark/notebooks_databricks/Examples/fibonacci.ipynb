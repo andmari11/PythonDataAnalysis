{
 "cells": [
  {
   "cell_type": "code",
   "execution_count": null,
   "metadata": {
    "application/vnd.databricks.v1+cell": {
     "inputWidgets": {},
     "nuid": "180411d9-4f83-4da9-995b-1a2c54d9ca00",
     "showTitle": false,
     "title": ""
    }
   },
   "outputs": [
    {
     "data": {
      "text/plain": [
       "Out[1]: [0, 1, 1, 2, 3, 5, 8, 13, 21, 34]"
      ]
     },
     "metadata": {
      "application/vnd.databricks.v1+output": {
       "addedWidgets": {},
       "arguments": {},
       "data": "Out[1]: [0, 1, 1, 2, 3, 5, 8, 13, 21, 34]",
       "datasetInfos": [],
       "metadata": {},
       "removedWidgets": [],
       "type": "ansi"
      }
     },
     "output_type": "display_data",
     "transient": null
    }
   ],
   "source": [
    "# Using reduce\n",
    "from functools import reduce\n",
    "def fib (n):\n",
    "  return reduce(lambda x, _: x + [x[-1] + x[-2]], range(n-2), [0, 1])\n",
    "\n",
    "fib(10)"
   ]
  },
  {
   "cell_type": "code",
   "execution_count": null,
   "metadata": {
    "application/vnd.databricks.v1+cell": {
     "inputWidgets": {},
     "nuid": "e5d0ecf6-c20a-47e1-aaac-2784b1e4aa28",
     "showTitle": false,
     "title": ""
    }
   },
   "outputs": [],
   "source": [
    "def fib (n):\n",
    "  if n == 0:\n",
    "    return 0\n",
    "  elif n == 1:\n",
    "    return 1\n",
    "  else:\n",
    "    return fib(n-1) + fib(n-2)\n",
    "\n",
    "n = 10\n",
    "rdd = sc.parallelize(range(n))\n",
    "rdd1 = rdd.map(lambda x: fib(x))"
   ]
  },
  {
   "cell_type": "code",
   "execution_count": null,
   "metadata": {
    "application/vnd.databricks.v1+cell": {
     "inputWidgets": {},
     "nuid": "e1cf6fb9-20ef-445d-8a85-37b70f4ee2c8",
     "showTitle": false,
     "title": ""
    }
   },
   "outputs": [
    {
     "data": {
      "text/plain": [
       "0\n",
       "1\n",
       "1\n",
       "2\n",
       "3\n",
       "5\n",
       "8\n",
       "13\n",
       "21\n",
       "34\n"
      ]
     },
     "metadata": {
      "application/vnd.databricks.v1+output": {
       "addedWidgets": {},
       "arguments": {},
       "data": "0\n1\n1\n2\n3\n5\n8\n13\n21\n34\n",
       "datasetInfos": [],
       "metadata": {},
       "removedWidgets": [],
       "type": "ansi"
      }
     },
     "output_type": "display_data",
     "transient": null
    }
   ],
   "source": [
    "for element in rdd1.collect():\n",
    "    print(element)"
   ]
  },
  {
   "cell_type": "code",
   "execution_count": null,
   "metadata": {
    "application/vnd.databricks.v1+cell": {
     "inputWidgets": {},
     "nuid": "0b28f2c4-0584-4b8e-bfee-6c40e0adb271",
     "showTitle": false,
     "title": ""
    }
   },
   "outputs": [
    {
     "data": {
      "text/plain": [
       "Out[4]: [0, 1, 1, 2, 3, 5, 8, 13, 21, 34]"
      ]
     },
     "metadata": {
      "application/vnd.databricks.v1+output": {
       "addedWidgets": {},
       "arguments": {},
       "data": "Out[4]: [0, 1, 1, 2, 3, 5, 8, 13, 21, 34]",
       "datasetInfos": [],
       "metadata": {},
       "removedWidgets": [],
       "type": "ansi"
      }
     },
     "output_type": "display_data",
     "transient": null
    }
   ],
   "source": [
    "# Using map\n",
    "def fib(n):\n",
    "  sequence = [0,1]\n",
    "  seq = map(lambda _: sequence.append(sequence[-1] + sequence[-2]), range(n-2))\n",
    "  list(seq)\n",
    "  #print(list(seq))\n",
    "  return sequence\n",
    "fib(10)"
   ]
  }
 ],
 "metadata": {
  "application/vnd.databricks.v1+notebook": {
   "dashboards": [],
   "language": "python",
   "notebookMetadata": {
    "pythonIndentUnit": 2
   },
   "notebookName": "fibonacci",
   "notebookOrigID": 3932429800601177,
   "widgets": {}
  },
  "kernelspec": {
   "display_name": "torch_kernel",
   "language": "python",
   "name": "torch_kernel"
  },
  "language_info": {
   "codemirror_mode": {
    "name": "ipython",
    "version": 3
   },
   "file_extension": ".py",
   "mimetype": "text/x-python",
   "name": "python",
   "nbconvert_exporter": "python",
   "pygments_lexer": "ipython3",
   "version": "3.12.6"
  }
 },
 "nbformat": 4,
 "nbformat_minor": 4
}
