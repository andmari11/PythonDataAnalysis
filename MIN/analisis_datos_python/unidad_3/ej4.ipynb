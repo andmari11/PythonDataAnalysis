{
 "cells": [
  {
   "cell_type": "markdown",
   "metadata": {},
   "source": [
    "<div id=\"navegacion\" prev=\"../Ejercicios_Tema_6/uso_numpy.html\" next=\"\"></div>\n",
    "\n",
    "<div class=\"section-title\">Sección 3.7</div>"
   ]
  },
  {
   "cell_type": "markdown",
   "metadata": {},
   "source": [
    "# Ejercicios "
   ]
  },
  {
   "cell_type": "markdown",
   "metadata": {},
   "source": [
    "Los enlaces que te encuentres en esta página, solo funcionan desde el formato html, no desde el notebook una vez descargado."
   ]
  },
  {
   "cell_type": "markdown",
   "metadata": {},
   "source": [
    "## Ejercicio 1"
   ]
  },
  {
   "cell_type": "markdown",
   "metadata": {},
   "source": [
    "El fichero [rotterdam_rainfall.txt](./datos/rotterdam_rainfall.txt) recoge los datos de las precipitaciones diarias de la estación meteorológica de Rotterdam en 2012.\n",
    "\n",
    "* La primera columna representa la fecha.\n",
    "* La segunda columna representa la cantidad de precipitaciones expresado en 0.1 mm (-1 si es menor a 0.05 mm).\n",
    "* El separador de campos es el caracter `, `.\n",
    "\n",
    "__a)__ Crear un array de `numpy` con los datos del fichero [rotterdam_rainfall.txt](./datos/rotterdam_rainfall.txt). El array ha de llamarse `precipitaciones`.\n",
    "\n",
    "   * Descarga el fichero  en tu directorio de trabajo.\n",
    "   * Carga el fichero mediante la función `loadtxt`. Usa el parámetro  `delimiter` con valor `,`. Usa el parámetro `dtype` para indicar que los valores sean de tipo `int`."
   ]
  },
  {
   "cell_type": "code",
   "execution_count": 57,
   "metadata": {
    "ExecuteTime": {
     "end_time": "2019-01-04T12:42:48.443665Z",
     "start_time": "2019-01-04T12:42:48.439687Z"
    }
   },
   "outputs": [],
   "source": [
    "# Sol\n",
    "import numpy as np\n",
    "precipitaciones=np.loadtxt(\"rotterdam_rainfall.txt\", delimiter=\",\", dtype=\"int\")"
   ]
  },
  {
   "cell_type": "markdown",
   "metadata": {},
   "source": [
    "__b)__ Averigua el número de días donde la cantidad de precipitaciones es mayor a 0.05 mm (valor mayor que -1).\n",
    "    \n",
    "* Primero crea un filtro donde la cantidad de precipitaciones (columna 1) sea mayor que  -1.\n",
    "* Aplica el filtro al array `precipitaciones`. Guarda el resultado en un nuevo array llamado `precip_positivas`.\n",
    "* Puedes usar la función `len` para calcular el tamaño del array  `precip_positivas`."
   ]
  },
  {
   "cell_type": "code",
   "execution_count": 17,
   "metadata": {
    "ExecuteTime": {
     "end_time": "2019-01-04T12:33:01.218423Z",
     "start_time": "2019-01-04T12:33:01.214952Z"
    }
   },
   "outputs": [
    {
     "data": {
      "text/plain": [
       "324"
      ]
     },
     "execution_count": 17,
     "metadata": {},
     "output_type": "execute_result"
    }
   ],
   "source": [
    "# Sol: 324 días \n",
    "filtro=precipitaciones[:,1]>-1\n",
    "precip_positivas=precipitaciones[filtro]\n",
    "len(precip_positivas)"
   ]
  },
  {
   "cell_type": "markdown",
   "metadata": {},
   "source": [
    "\n",
    "__c)__ Calcula el valor medio de la cantidad de precipitación. No tengas en cuenta las precipitaciones con valor -1, por tanto usa el array `precip_positivas` para calcular dicho valor medio.\n",
    "\n",
    "   * Utiliza la función `mean`.\n",
    "    \n"
   ]
  },
  {
   "cell_type": "code",
   "execution_count": 23,
   "metadata": {
    "ExecuteTime": {
     "end_time": "2019-01-04T12:33:15.640829Z",
     "start_time": "2019-01-04T12:33:15.638352Z"
    }
   },
   "outputs": [
    {
     "data": {
      "text/plain": [
       "30.700617283950617"
      ]
     },
     "execution_count": 23,
     "metadata": {},
     "output_type": "execute_result"
    }
   ],
   "source": [
    "# Sol: 30.700617283950617\n",
    "\n",
    "np.mean(precip_positivas[:,1])"
   ]
  },
  {
   "cell_type": "markdown",
   "metadata": {},
   "source": [
    "__d)__ Calcula el día que ha tenido mayor cantidad de precipitación y la cantidad de precipitación.\n",
    "\n",
    "   * Utiliza las funciones `argmax` y `max`."
   ]
  },
  {
   "cell_type": "code",
   "execution_count": 44,
   "metadata": {
    "ExecuteTime": {
     "end_time": "2019-01-04T12:33:19.858674Z",
     "start_time": "2019-01-04T12:33:19.854677Z"
    }
   },
   "outputs": [
    {
     "name": "stdout",
     "output_type": "stream",
     "text": [
      "Máxima precipitación: 224\n",
      "Día de máxima precipitación : 20121222\n"
     ]
    }
   ],
   "source": [
    "# Sol: Máxima precipitación: 224. \n",
    "#      Día de máxima precipitación : 20121222\n",
    "print(\"Máxima precipitación:\", np.max(precipitaciones[:,1]))\n",
    "print(\"Día de máxima precipitación :\", precipitaciones[np.argmax(precipitaciones[:,1]),0])\n"
   ]
  },
  {
   "cell_type": "markdown",
   "metadata": {},
   "source": [
    "__e)__ Expresa la cantidad de precipitación en mm. Para ello multiplica la cantidad de precipitación por 10.\n",
    "\n",
    "   "
   ]
  },
  {
   "cell_type": "code",
   "execution_count": 61,
   "metadata": {
    "ExecuteTime": {
     "end_time": "2019-01-04T12:41:22.993269Z",
     "start_time": "2019-01-04T12:41:22.990293Z"
    }
   },
   "outputs": [
    {
     "data": {
      "text/plain": [
       "array([[20120101,     2070],\n",
       "       [20120102,      -10],\n",
       "       [20120103,     1440],\n",
       "       [20120104,      360],\n",
       "       [20120105,      840],\n",
       "       [20120106,       80],\n",
       "       [20120107,      300],\n",
       "       [20120108,      -10],\n",
       "       [20120109,       80],\n",
       "       [20120110,        0],\n",
       "       [20120111,      100],\n",
       "       [20120112,       90],\n",
       "       [20120113,       40],\n",
       "       [20120114,      -10],\n",
       "       [20120115,        0],\n",
       "       [20120116,        0],\n",
       "       [20120117,        0],\n",
       "       [20120118,      320],\n",
       "       [20120119,     1440],\n",
       "       [20120120,      -10],\n",
       "       [20120121,      350],\n",
       "       [20120122,      190],\n",
       "       [20120123,      160],\n",
       "       [20120124,       50],\n",
       "       [20120125,       50],\n",
       "       [20120126,      330],\n",
       "       [20120127,      -10],\n",
       "       [20120128,      -10],\n",
       "       [20120129,        0],\n",
       "       [20120130,       10],\n",
       "       [20120131,      -10],\n",
       "       [20120201,        0],\n",
       "       [20120202,        0],\n",
       "       [20120203,      270],\n",
       "       [20120204,        0],\n",
       "       [20120205,        0],\n",
       "       [20120206,        0],\n",
       "       [20120207,        0],\n",
       "       [20120208,        0],\n",
       "       [20120209,      -10],\n",
       "       [20120210,        0],\n",
       "       [20120211,        0],\n",
       "       [20120212,       50],\n",
       "       [20120213,      180],\n",
       "       [20120214,      190],\n",
       "       [20120215,      290],\n",
       "       [20120216,       60],\n",
       "       [20120217,       40],\n",
       "       [20120218,      800],\n",
       "       [20120219,      250],\n",
       "       [20120220,      -10],\n",
       "       [20120221,        0],\n",
       "       [20120222,      260],\n",
       "       [20120223,      -10],\n",
       "       [20120224,       10],\n",
       "       [20120225,        0],\n",
       "       [20120226,        0],\n",
       "       [20120227,        0],\n",
       "       [20120228,       30],\n",
       "       [20120229,      -10],\n",
       "       [20120301,        0],\n",
       "       [20120302,        0],\n",
       "       [20120303,      -10],\n",
       "       [20120304,      430],\n",
       "       [20120305,      450],\n",
       "       [20120306,        0],\n",
       "       [20120307,     1230],\n",
       "       [20120308,        0],\n",
       "       [20120309,        0],\n",
       "       [20120310,       10],\n",
       "       [20120311,        0],\n",
       "       [20120312,        0],\n",
       "       [20120313,        0],\n",
       "       [20120314,        0],\n",
       "       [20120315,        0],\n",
       "       [20120316,        0],\n",
       "       [20120317,      -10],\n",
       "       [20120318,       70],\n",
       "       [20120319,        0],\n",
       "       [20120320,        0],\n",
       "       [20120321,        0],\n",
       "       [20120322,        0],\n",
       "       [20120323,        0],\n",
       "       [20120324,        0],\n",
       "       [20120325,        0],\n",
       "       [20120326,        0],\n",
       "       [20120327,        0],\n",
       "       [20120328,        0],\n",
       "       [20120329,        0],\n",
       "       [20120330,      -10],\n",
       "       [20120331,      -10],\n",
       "       [20120401,        0],\n",
       "       [20120402,        0],\n",
       "       [20120403,      -10],\n",
       "       [20120404,      400],\n",
       "       [20120405,        0],\n",
       "       [20120406,      100],\n",
       "       [20120407,       30],\n",
       "       [20120408,      300],\n",
       "       [20120409,      650],\n",
       "       [20120410,      230],\n",
       "       [20120411,      130],\n",
       "       [20120412,      -10],\n",
       "       [20120413,      -10],\n",
       "       [20120414,        0],\n",
       "       [20120415,      -10],\n",
       "       [20120416,       60],\n",
       "       [20120417,      350],\n",
       "       [20120418,       80],\n",
       "       [20120419,      320],\n",
       "       [20120420,      150],\n",
       "       [20120421,      120],\n",
       "       [20120422,       10],\n",
       "       [20120423,      380],\n",
       "       [20120424,      300],\n",
       "       [20120425,      250],\n",
       "       [20120426,      660],\n",
       "       [20120427,       40],\n",
       "       [20120428,     1190],\n",
       "       [20120429,       10],\n",
       "       [20120430,      -10],\n",
       "       [20120501,     1020],\n",
       "       [20120502,     1130],\n",
       "       [20120503,      -10],\n",
       "       [20120504,      -10],\n",
       "       [20120505,      -10],\n",
       "       [20120506,        0],\n",
       "       [20120507,       10],\n",
       "       [20120508,      660],\n",
       "       [20120509,     1240],\n",
       "       [20120510,      540],\n",
       "       [20120511,      -10],\n",
       "       [20120512,       20],\n",
       "       [20120513,        0],\n",
       "       [20120514,      150],\n",
       "       [20120515,     1060],\n",
       "       [20120516,      210],\n",
       "       [20120517,        0],\n",
       "       [20120518,       30],\n",
       "       [20120519,        0],\n",
       "       [20120520,      510],\n",
       "       [20120521,        0],\n",
       "       [20120522,        0],\n",
       "       [20120523,        0],\n",
       "       [20120524,        0],\n",
       "       [20120525,        0],\n",
       "       [20120526,        0],\n",
       "       [20120527,        0],\n",
       "       [20120528,        0],\n",
       "       [20120529,      350],\n",
       "       [20120530,        0],\n",
       "       [20120531,      720],\n",
       "       [20120601,       50],\n",
       "       [20120602,      -10],\n",
       "       [20120603,     1010],\n",
       "       [20120604,     1570],\n",
       "       [20120605,       10],\n",
       "       [20120606,      690],\n",
       "       [20120607,      170],\n",
       "       [20120608,       70],\n",
       "       [20120609,      210],\n",
       "       [20120610,      -10],\n",
       "       [20120611,     1860],\n",
       "       [20120612,      160],\n",
       "       [20120613,        0],\n",
       "       [20120614,        0],\n",
       "       [20120615,      960],\n",
       "       [20120616,      320],\n",
       "       [20120617,      -10],\n",
       "       [20120618,     1300],\n",
       "       [20120619,        0],\n",
       "       [20120620,        0],\n",
       "       [20120621,     1120],\n",
       "       [20120622,      710],\n",
       "       [20120623,        0],\n",
       "       [20120624,     1320],\n",
       "       [20120625,        0],\n",
       "       [20120626,        0],\n",
       "       [20120627,        0],\n",
       "       [20120628,      -10],\n",
       "       [20120629,      -10],\n",
       "       [20120630,      370],\n",
       "       [20120701,       40],\n",
       "       [20120702,        0],\n",
       "       [20120703,        0],\n",
       "       [20120704,       10],\n",
       "       [20120705,      400],\n",
       "       [20120706,     1070],\n",
       "       [20120707,       60],\n",
       "       [20120708,      690],\n",
       "       [20120709,      -10],\n",
       "       [20120710,       30],\n",
       "       [20120711,     1260],\n",
       "       [20120712,      670],\n",
       "       [20120713,      430],\n",
       "       [20120714,      810],\n",
       "       [20120715,     1040],\n",
       "       [20120716,     2120],\n",
       "       [20120717,       10],\n",
       "       [20120718,      480],\n",
       "       [20120719,      720],\n",
       "       [20120720,      -10],\n",
       "       [20120721,       10],\n",
       "       [20120722,        0],\n",
       "       [20120723,        0],\n",
       "       [20120724,        0],\n",
       "       [20120725,        0],\n",
       "       [20120726,        0],\n",
       "       [20120727,      830],\n",
       "       [20120728,       10],\n",
       "       [20120729,      360],\n",
       "       [20120730,      970],\n",
       "       [20120731,      140],\n",
       "       [20120801,      370],\n",
       "       [20120802,      510],\n",
       "       [20120803,      360],\n",
       "       [20120804,       60],\n",
       "       [20120805,     1300],\n",
       "       [20120806,       80],\n",
       "       [20120807,     1180],\n",
       "       [20120808,       10],\n",
       "       [20120809,        0],\n",
       "       [20120810,        0],\n",
       "       [20120811,        0],\n",
       "       [20120812,        0],\n",
       "       [20120813,      200],\n",
       "       [20120814,       30],\n",
       "       [20120815,       20],\n",
       "       [20120816,        0],\n",
       "       [20120817,        0],\n",
       "       [20120818,        0],\n",
       "       [20120819,       60],\n",
       "       [20120820,        0],\n",
       "       [20120821,      -10],\n",
       "       [20120822,        0],\n",
       "       [20120823,        0],\n",
       "       [20120824,      190],\n",
       "       [20120825,      470],\n",
       "       [20120826,     1820],\n",
       "       [20120827,      -10],\n",
       "       [20120828,      240],\n",
       "       [20120829,      160],\n",
       "       [20120830,      890],\n",
       "       [20120831,     1390],\n",
       "       [20120901,        0],\n",
       "       [20120902,        0],\n",
       "       [20120903,      -10],\n",
       "       [20120904,        0],\n",
       "       [20120905,        0],\n",
       "       [20120906,        0],\n",
       "       [20120907,        0],\n",
       "       [20120908,        0],\n",
       "       [20120909,        0],\n",
       "       [20120910,       10],\n",
       "       [20120911,       40],\n",
       "       [20120912,      300],\n",
       "       [20120913,        0],\n",
       "       [20120914,       80],\n",
       "       [20120915,      -10],\n",
       "       [20120916,        0],\n",
       "       [20120917,       80],\n",
       "       [20120918,      500],\n",
       "       [20120919,      170],\n",
       "       [20120920,      140],\n",
       "       [20120921,       50],\n",
       "       [20120922,      270],\n",
       "       [20120923,      700],\n",
       "       [20120924,     1480],\n",
       "       [20120925,      780],\n",
       "       [20120926,      -10],\n",
       "       [20120927,      440],\n",
       "       [20120928,       60],\n",
       "       [20120929,      100],\n",
       "       [20120930,        0],\n",
       "       [20121001,      190],\n",
       "       [20121002,      120],\n",
       "       [20121003,      490],\n",
       "       [20121004,     1070],\n",
       "       [20121005,     1300],\n",
       "       [20121006,     1410],\n",
       "       [20121007,        0],\n",
       "       [20121008,      -10],\n",
       "       [20121009,        0],\n",
       "       [20121010,        0],\n",
       "       [20121011,       70],\n",
       "       [20121012,     1150],\n",
       "       [20121013,     1660],\n",
       "       [20121014,     1430],\n",
       "       [20121015,      140],\n",
       "       [20121016,      290],\n",
       "       [20121017,      180],\n",
       "       [20121018,     1000],\n",
       "       [20121019,      350],\n",
       "       [20121020,       40],\n",
       "       [20121021,       80],\n",
       "       [20121022,        0],\n",
       "       [20121023,        0],\n",
       "       [20121024,       10],\n",
       "       [20121025,       30],\n",
       "       [20121026,      -10],\n",
       "       [20121027,      -10],\n",
       "       [20121028,       10],\n",
       "       [20121029,     1190],\n",
       "       [20121030,     1050],\n",
       "       [20121031,      -10],\n",
       "       [20121101,      450],\n",
       "       [20121102,      160],\n",
       "       [20121103,      150],\n",
       "       [20121104,     1030],\n",
       "       [20121105,      460],\n",
       "       [20121106,     1050],\n",
       "       [20121107,       40],\n",
       "       [20121108,       20],\n",
       "       [20121109,       10],\n",
       "       [20121110,      420],\n",
       "       [20121111,      360],\n",
       "       [20121112,       40],\n",
       "       [20121113,       50],\n",
       "       [20121114,        0],\n",
       "       [20121115,        0],\n",
       "       [20121116,        0],\n",
       "       [20121117,       90],\n",
       "       [20121118,      360],\n",
       "       [20121119,        0],\n",
       "       [20121120,        0],\n",
       "       [20121121,       90],\n",
       "       [20121122,        0],\n",
       "       [20121123,      500],\n",
       "       [20121124,      480],\n",
       "       [20121125,      170],\n",
       "       [20121126,       60],\n",
       "       [20121127,       10],\n",
       "       [20121128,       90],\n",
       "       [20121129,       60],\n",
       "       [20121130,      180],\n",
       "       [20121201,     1090],\n",
       "       [20121202,      930],\n",
       "       [20121203,      520],\n",
       "       [20121204,      960],\n",
       "       [20121205,      290],\n",
       "       [20121206,       70],\n",
       "       [20121207,     1070],\n",
       "       [20121208,       10],\n",
       "       [20121209,     1020],\n",
       "       [20121210,      160],\n",
       "       [20121211,       20],\n",
       "       [20121212,      -10],\n",
       "       [20121213,      -10],\n",
       "       [20121214,     1030],\n",
       "       [20121215,       80],\n",
       "       [20121216,      240],\n",
       "       [20121217,      310],\n",
       "       [20121218,      160],\n",
       "       [20121219,        0],\n",
       "       [20121220,      680],\n",
       "       [20121221,       90],\n",
       "       [20121222,     2240],\n",
       "       [20121223,      760],\n",
       "       [20121224,      320],\n",
       "       [20121225,     1250],\n",
       "       [20121226,      450],\n",
       "       [20121227,      270],\n",
       "       [20121228,      180],\n",
       "       [20121229,       20],\n",
       "       [20121230,      230],\n",
       "       [20121231,      500]])"
      ]
     },
     "execution_count": 61,
     "metadata": {},
     "output_type": "execute_result"
    }
   ],
   "source": [
    "# Sol: Los primeros valores del resultado son:\n",
    "\n",
    "#    array([[20120101,     2070],\n",
    "#           [20120102,      -10],\n",
    "#           [20120103,     1440],\n",
    "#           [20120104,      360],\n",
    "#            ...\n",
    "#            ...\n",
    "\n",
    "precipitaciones_mm=precipitaciones.copy()\n",
    "precipitaciones_mm[:,1]*=10\n",
    "precipitaciones_mm\n"
   ]
  },
  {
   "cell_type": "markdown",
   "metadata": {},
   "source": [
    "## Ejercicio 2"
   ]
  },
  {
   "cell_type": "markdown",
   "metadata": {},
   "source": [
    "Dos niños están haciendo una colección de cromos. Cada cromo tiene asignado un número entero entre 1 y 200.\n",
    "\n",
    "* Los cromos que tiene Juan se encuentran en el fichero [juan.txt](./datos/col_juan.txt). La primera columna representa el número asociado al cromo y la segunda columna representa el número de cromos con ese número que tiene Juan.\n",
    "\n",
    "* Los cromos que tiene Pedro se encuentran en el fichero [pedro.txt](./datos/col_pedro.txt). La primera columna representa el número asociado al cromo y la segunda columna representa el número de cromos con ese número que tiene Pedro.\n",
    "\n",
    "__a)__ Crear un array de `numpy` con los datos de cada una de las colecciones. Los arrays han de llamarse `juan`y `pedro`.\n",
    "\n",
    "   * Descarga los ficheros  en tu directorio de trabajo.\n",
    "   * Carga cada uno de los ficheros mediante la función `loadtxt`. Usa el parámetro  `delimiter` con valor `,`. Usa el parámetro `dtype` para indicar que los valores sean de tipo `int`."
   ]
  },
  {
   "cell_type": "code",
   "execution_count": 8,
   "metadata": {
    "ExecuteTime": {
     "end_time": "2019-01-04T13:46:15.191779Z",
     "start_time": "2019-01-04T13:46:15.182881Z"
    }
   },
   "outputs": [],
   "source": [
    "# Sol: \n",
    "import numpy as np\n",
    "\n",
    "juan=np.loadtxt(\"col_juan.txt\", delimiter= \",\", dtype= \"float\")\n",
    "pedro=np.loadtxt(\"col_pedro.txt\", delimiter= \",\", dtype= \"float\")\n"
   ]
  },
  {
   "cell_type": "markdown",
   "metadata": {},
   "source": [
    "__b)__ Calcula el número de cromos diferentes que tiene cada niño. "
   ]
  },
  {
   "cell_type": "code",
   "execution_count": 14,
   "metadata": {
    "ExecuteTime": {
     "end_time": "2019-01-04T13:59:53.267589Z",
     "start_time": "2019-01-04T13:59:53.264120Z"
    }
   },
   "outputs": [
    {
     "name": "stdout",
     "output_type": "stream",
     "text": [
      "juan 68\n",
      "pedro 124\n"
     ]
    }
   ],
   "source": [
    "# SOl: \n",
    "# juan tiene 68 cromos\n",
    "# pedro tiene 124 cromos\n",
    "\n",
    "print(\"juan\", len((juan)))\n",
    "print(\"pedro\", len((pedro)))"
   ]
  },
  {
   "cell_type": "markdown",
   "metadata": {},
   "source": [
    "__c)__ Calcula el número de cromos totales que tiene cada niño (contando los cromos repetidos). "
   ]
  },
  {
   "cell_type": "code",
   "execution_count": 17,
   "metadata": {
    "ExecuteTime": {
     "end_time": "2019-01-04T13:59:59.450302Z",
     "start_time": "2019-01-04T13:59:59.447330Z"
    }
   },
   "outputs": [
    {
     "name": "stdout",
     "output_type": "stream",
     "text": [
      "pedro 1326.0\n",
      "juan 619.0\n"
     ]
    }
   ],
   "source": [
    "# SOl: \n",
    "# pedro tiene 1326 cromos \n",
    "# juan tiene 619 cromos\n",
    "\n",
    "print(\"pedro\", np.sum(pedro[:,1]))\n",
    "print(\"juan\", np.sum(juan[:,1]))"
   ]
  },
  {
   "cell_type": "markdown",
   "metadata": {},
   "source": [
    "__d)__ Calcula el número de cromos que aparecen en las dos colecciones. Puedes usar la función `np.intersect1d`."
   ]
  },
  {
   "cell_type": "code",
   "execution_count": 21,
   "metadata": {
    "ExecuteTime": {
     "end_time": "2019-01-04T14:00:50.965063Z",
     "start_time": "2019-01-04T14:00:50.960103Z"
    }
   },
   "outputs": [
    {
     "name": "stdout",
     "output_type": "stream",
     "text": [
      "44\n"
     ]
    }
   ],
   "source": [
    "# Sol\n",
    "# Hay 44 cromos que aparecen en las dos colecciones\n",
    "print(len(np.intersect1d(pedro[:,0], juan[:,0])))"
   ]
  },
  {
   "cell_type": "markdown",
   "metadata": {},
   "source": [
    "__e)__ Entre los dos niños, ¿forman la colección completa?. Puedes usar la función `np.union1d`."
   ]
  },
  {
   "cell_type": "code",
   "execution_count": 22,
   "metadata": {
    "ExecuteTime": {
     "end_time": "2019-01-04T14:01:31.596336Z",
     "start_time": "2019-01-04T14:01:31.592867Z"
    }
   },
   "outputs": [
    {
     "name": "stdout",
     "output_type": "stream",
     "text": [
      "148\n"
     ]
    }
   ],
   "source": [
    "# Sol: \n",
    "# No Forman la colección completa. Entre los dos, solo tienen 148 cromos distintos y la colección tiene 200 cromos\n",
    "\n",
    "print(len(np.union1d(pedro[:,0], juan[:,0])))"
   ]
  },
  {
   "cell_type": "markdown",
   "metadata": {},
   "source": [
    "__f)__ ¿Qué números faltan para tener la colección completa?\n",
    "\n",
    "* Puedes generar un array de todos los cromos de la colección con la función `arange`.\n",
    "* Usa la función `np.in1d` "
   ]
  },
  {
   "cell_type": "code",
   "execution_count": 35,
   "metadata": {
    "ExecuteTime": {
     "end_time": "2019-01-04T14:01:07.241500Z",
     "start_time": "2019-01-04T14:01:07.238035Z"
    },
    "scrolled": true
   },
   "outputs": [
    {
     "data": {
      "text/plain": [
       "array([  1,   3,  12,  16,  17,  21,  30,  34,  38,  45,  46,  48,  52,\n",
       "        55,  66,  69,  72,  75,  76,  81,  82,  91,  92,  96, 100, 106,\n",
       "       107, 113, 114, 119, 122, 124, 125, 129, 138, 139, 140, 146, 151,\n",
       "       154, 155, 173, 176, 180, 181, 184, 185, 186, 190, 194, 199, 200])"
      ]
     },
     "execution_count": 35,
     "metadata": {},
     "output_type": "execute_result"
    }
   ],
   "source": [
    "# Sol:\n",
    "# Listado de los cromos que faltan:\n",
    "#      [  1,   3,  12,  16,  17,  21,  30,  34,  38,  45,  46,  48,  52,\n",
    "#        55,  66,  69,  72,  75,  76,  81,  82,  91,  92,  96, 100, 106,\n",
    "#       107, 113, 114, 119, 122, 124, 125, 129, 138, 139, 140, 146, 151,\n",
    "#       154, 155, 173, 176, 180, 181, 184, 185, 186, 190, 194, 199, 200]\n",
    "    \n",
    "np.arange(1,201)[~np.in1d(np.arange(1,201),np.union1d(pedro[:,0], juan[:,0]))]"
   ]
  },
  {
   "cell_type": "markdown",
   "metadata": {},
   "source": [
    "---------------------"
   ]
  }
 ],
 "metadata": {
  "anaconda-cloud": {},
  "kernelspec": {
   "display_name": "Python 3 (ipykernel)",
   "language": "python",
   "name": "python3"
  },
  "language_info": {
   "codemirror_mode": {
    "name": "ipython",
    "version": 3
   },
   "file_extension": ".py",
   "mimetype": "text/x-python",
   "name": "python",
   "nbconvert_exporter": "python",
   "pygments_lexer": "ipython3",
   "version": "3.11.2"
  },
  "nbTranslate": {
   "displayLangs": [
    "en",
    "es"
   ],
   "hotkey": "alt-t",
   "langInMainMenu": true,
   "sourceLang": "es",
   "targetLang": "en",
   "useGoogleTranslate": true
  },
  "toc": {
   "nav_menu": {
    "height": "68px",
    "width": "252px"
   },
   "number_sections": true,
   "sideBar": true,
   "skip_h1_title": false,
   "title_cell": "Table of Contents",
   "title_sidebar": "Contents",
   "toc_cell": false,
   "toc_position": {},
   "toc_section_display": "block",
   "toc_window_display": false
  }
 },
 "nbformat": 4,
 "nbformat_minor": 4
}
