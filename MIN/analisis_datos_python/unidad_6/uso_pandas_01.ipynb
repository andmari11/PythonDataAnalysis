{
 "cells": [
  {
   "cell_type": "markdown",
   "metadata": {},
   "source": [
    "\n",
    "<div id=\"navegacion\" prev=\"../Ejercicios_Tema_7/ej6.html\" next=\"\"></div>\n",
    "\n",
    "<div class=\"section-title\">Sección 6.5</div>"
   ]
  },
  {
   "cell_type": "markdown",
   "metadata": {},
   "source": [
    "#  Movilens 1M"
   ]
  },
  {
   "cell_type": "markdown",
   "metadata": {},
   "source": [
    "\n",
    "Movilens Dataset recoge datos de 6000 usuarios y 4000  películas. La información se distribuye en 3 tablas.\n",
    "\n",
    "- [ratings.dat](./ml-1m/ratings.dat) - El fichero recoge datos de valoraciones  de los usuarios. Las columnas son: Usuario, MovieID, Puntuación, Fecha.\n",
    "\n",
    "- [movies.dat](./ml-1m/movies.dat) - Datos de las películas. Las columnas son: MovieID, Titulo, Género\n",
    "- [users.dat](./ml-1m/users.dat) - Datos personales de los usuarios. Las columnas son: Usuario, Sexo, Edad, Ocupación, ZipCode.\n",
    "\n",
    "\n",
    "Toda esta información se utiliza con mucha frecuencia en los sistemas de recomendación que aplican algoritmos de aprendizaje.\n",
    "La información del contenido de los ficheros la puedes encontrar en el enlace [README](./ml-1m/README).\n"
   ]
  },
  {
   "cell_type": "markdown",
   "metadata": {},
   "source": [
    "## Importar datos"
   ]
  },
  {
   "cell_type": "markdown",
   "metadata": {},
   "source": [
    "Crear un DataFrame para cada uno de los ficheros.  Usar la función `head()` para visualizar los primeros datos.\n",
    "El fichero ratings tiene un campo de tipo fecha. Usa el parámetro `parse_dates` para cargar de forma adecuada las fechas."
   ]
  },
  {
   "cell_type": "code",
   "execution_count": 98,
   "metadata": {
    "ExecuteTime": {
     "end_time": "2018-10-29T11:18:56.651038Z",
     "start_time": "2018-10-29T11:18:56.638638Z"
    }
   },
   "outputs": [],
   "source": [
    "# Sol:\n",
    "import pandas as pd\n",
    "\n",
    "ratings=pd.read_csv(\"ratings.dat\", sep=\":\", names=[\"user_id\", \"movie_id\", \"puntuacion\", \"fecha\"], parse_dates=[\"fecha\"])\n",
    "movies=pd.read_csv(\"movies.dat\", sep= \":\", names=[ \"movie_id\", \"titulo\", \"genero\"])\n",
    "users=pd.read_csv(\"users.dat\", sep= \":\", names=[ \"user_id\", \"sexo\", \"edad\", \"Ocupación\", \"zipcode\"])\n"
   ]
  },
  {
   "cell_type": "markdown",
   "metadata": {},
   "source": [
    "## Valoraciones de X-Men"
   ]
  },
  {
   "cell_type": "markdown",
   "metadata": {},
   "source": [
    "Los usuarios valoran las películas con valores del 1 al 5 donde el 1 es la peor puntuación y 5 es la mejor. La puntuación es una variable categórica. Calcula el número de votos de cada tipo (la frecuencia de votos) de la película con título `X-Men (2000)`. \n",
    "\n"
   ]
  },
  {
   "cell_type": "code",
   "execution_count": 100,
   "metadata": {},
   "outputs": [
    {
     "data": {
      "text/plain": [
       "puntuacion\n",
       "4    4\n",
       "5    3\n",
       "3    2\n",
       "2    1\n",
       "Name: count, dtype: int64"
      ]
     },
     "execution_count": 100,
     "metadata": {},
     "output_type": "execute_result"
    }
   ],
   "source": [
    "# Sol:\n",
    "id_movie=movies[movies[\"titulo\"]==\"X-Men (2000)\"][\"movie_id\"].values[0]\n",
    "ratings[ratings[\"movie_id\"]==id_movie][\"puntuacion\"].value_counts()"
   ]
  },
  {
   "cell_type": "markdown",
   "metadata": {
    "collapsed": true,
    "jupyter": {
     "outputs_hidden": true
    }
   },
   "source": [
    "## Puntuación media"
   ]
  },
  {
   "cell_type": "markdown",
   "metadata": {},
   "source": [
    "Calcula la puntuación media  de cada película por sexo del usuario. Diseña una función llamada `puntuacion_media` que devuelve un Dataframe donde el índice es el título de la película y las columnaa son 'F' y 'M' (Female y Male respectivamente).\n",
    "\n",
    "__Nota__:\n",
    "\n",
    "Hay varias formas de hacerlo. Aquí os dejo alguna sugerencia:\n",
    "* Necesitamos combinar las tres tablas ya que tenemos, por un lado las valoraciones, por otro el título de la película y por otro el sexo de los usuarios. La operación `merge` te permitirá realizar la  combinación.\n",
    "    * Combina primero las valoraciones con las peliculas por el campo 'id_peli'.\n",
    "    * Combina el resultado anterior con los usuarios por el campo 'id_usuario'.\n",
    "    \n",
    "* Una vez combinadas las tres tablas en una sola tabla:\n",
    "    * solución 1:  Agrupar por `id_peli` y por `sexo` del usuario. La función de agregación es la media `mean()`. Para obtener la tabla pedida utiliza `unstack` para deshacer el multi índice.\n",
    "    * solución 2: Consulta la ayuda de la función `pivot_table`. Utiliza la función `pivot_table`. Merece la pena que intentéis resolverlo también utilizando esta opción.\n"
   ]
  },
  {
   "cell_type": "code",
   "execution_count": 147,
   "metadata": {},
   "outputs": [
    {
     "name": "stdout",
     "output_type": "stream",
     "text": [
      "Usando groupby: sexo                                     F         M\n",
      "titulo                                              \n",
      "$1,000,000 Duck (1971)                 3.0       NaN\n",
      "'Til There Was You (1997)              NaN  1.000000\n",
      "'burbs, The (1989)                     1.0  2.000000\n",
      "...And Justice for All (1979)          NaN  4.333333\n",
      "10 Things I Hate About You (1999)      4.2  4.500000\n",
      "...                                    ...       ...\n",
      "Young Poisoner's Handbook, The (1995)  NaN  3.000000\n",
      "Young Sherlock Holmes (1985)           NaN  3.666667\n",
      "Your Friends and Neighbors (1998)      NaN  4.000000\n",
      "Zed & Two Noughts, A (1985)            NaN  1.000000\n",
      "eXistenZ (1999)                        3.0  2.000000\n",
      "\n",
      "[2301 rows x 2 columns]\n",
      "Usando pivot_table: sexo                                     F         M\n",
      "titulo                                              \n",
      "$1,000,000 Duck (1971)                 3.0       NaN\n",
      "'Til There Was You (1997)              NaN  1.000000\n",
      "'burbs, The (1989)                     1.0  2.000000\n",
      "...And Justice for All (1979)          NaN  4.333333\n",
      "10 Things I Hate About You (1999)      4.2  4.500000\n",
      "...                                    ...       ...\n",
      "Young Poisoner's Handbook, The (1995)  NaN  3.000000\n",
      "Young Sherlock Holmes (1985)           NaN  3.666667\n",
      "Your Friends and Neighbors (1998)      NaN  4.000000\n",
      "Zed & Two Noughts, A (1985)            NaN  1.000000\n",
      "eXistenZ (1999)                        3.0  2.000000\n",
      "\n",
      "[2301 rows x 2 columns]\n"
     ]
    }
   ],
   "source": [
    "# Sol:\n",
    "def puntuacion_media():\n",
    "    \"\"\"Calcula la puntuación media  de cada película por sexo del usuario\n",
    "    \n",
    "    Example:\n",
    "        >>> puntuacion_media()\n",
    "               \n",
    "        genero_u                            F          M\n",
    "        titulo \n",
    "        $1,000,000 Duck (1971)       3.375000    2.761905\n",
    "        'Night Mother (1986)         3.388889    3.352941\n",
    "        'Til There Was You (1997)    2.675676    2.733333\n",
    "\n",
    "        ...\n",
    "        ...\n",
    "    \n",
    "    \"\"\"\n",
    "    \n",
    "    tablas_unidas=pd.merge(pd.merge(movies, ratings, on=\"movie_id\"), users, on=\"user_id\")\n",
    "    sol1= tablas_unidas.groupby([\"titulo\", \"sexo\"])[\"puntuacion\"].mean().unstack()\n",
    "    sol2= tablas_unidas.pivot_table(values=\"puntuacion\", index=\"titulo\", columns=\"sexo\", aggfunc=\"mean\")\n",
    "    \n",
    "    return sol1, sol2\n",
    "    \n",
    "sol1,sol2=puntuacion_media()\n",
    "print(\"Usando groupby:\",sol1)\n",
    "print(\"Usando pivot_table:\",sol2)\n"
   ]
  },
  {
   "cell_type": "code",
   "execution_count": null,
   "metadata": {},
   "outputs": [],
   "source": []
  }
 ],
 "metadata": {
  "anaconda-cloud": {},
  "kernelspec": {
   "display_name": "torch_kernel",
   "language": "python",
   "name": "torch_kernel"
  },
  "language_info": {
   "codemirror_mode": {
    "name": "ipython",
    "version": 3
   },
   "file_extension": ".py",
   "mimetype": "text/x-python",
   "name": "python",
   "nbconvert_exporter": "python",
   "pygments_lexer": "ipython3",
   "version": "3.12.6"
  },
  "nbTranslate": {
   "displayLangs": [
    "en",
    "es"
   ],
   "hotkey": "alt-t",
   "langInMainMenu": true,
   "sourceLang": "es",
   "targetLang": "en",
   "useGoogleTranslate": true
  },
  "toc": {
   "nav_menu": {},
   "number_sections": true,
   "sideBar": true,
   "skip_h1_title": false,
   "title_cell": "Table of Contents",
   "title_sidebar": "Contents",
   "toc_cell": false,
   "toc_position": {},
   "toc_section_display": true,
   "toc_window_display": false
  }
 },
 "nbformat": 4,
 "nbformat_minor": 4
}
