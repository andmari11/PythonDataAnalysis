{
 "cells": [
  {
   "cell_type": "markdown",
   "metadata": {},
   "source": [
    "<div id=\"navegacion\" prev=\"../Tema_7/t7_pandas_034.html\" next=\"\"></div>\n",
    "\n",
    "<div class=\"section-title\">Sección 5.5</div>"
   ]
  },
  {
   "cell_type": "markdown",
   "metadata": {},
   "source": [
    "# Ejercicios "
   ]
  },
  {
   "cell_type": "markdown",
   "metadata": {
    "collapsed": true,
    "jupyter": {
     "outputs_hidden": true
    }
   },
   "source": [
    "## Ejercicio 1"
   ]
  },
  {
   "cell_type": "markdown",
   "metadata": {},
   "source": [
    "El fichero [pedidos.csv](./datos/pedidos.csv) recoge los datos de los pedidos de una empresa en su último trimestre. Cada pedido puede tener distintas lineas de pedido, donde cada línea representa un producto.\n",
    "\n",
    "La información del fichero por columnas es: \n",
    "* Número de pedido\n",
    "* Linea de pedido\n",
    "* Producto\n",
    "* Cantidad\n",
    "* Precio unitario en Euros (separador de decimales = ',')\n",
    "\n",
    "\n",
    "\n",
    "__a)__ Carga los datos en un DataFrame con la función `read_csv`. \n",
    "\n",
    "* El índice del DataFrame ha de ser el número de pedido.\n",
    "* Para ver las opcciones de la función `read_csv` ejecuta la siguiente celda:"
   ]
  },
  {
   "cell_type": "code",
   "execution_count": 22,
   "metadata": {
    "ExecuteTime": {
     "end_time": "2019-01-06T09:06:06.881243Z",
     "start_time": "2019-01-06T09:06:03.708000Z"
    }
   },
   "outputs": [],
   "source": [
    "import pandas as pd\n",
    "pd.read_excel?"
   ]
  },
  {
   "cell_type": "code",
   "execution_count": 18,
   "metadata": {
    "ExecuteTime": {
     "end_time": "2019-01-06T09:06:16.802568Z",
     "start_time": "2019-01-06T09:06:16.799101Z"
    }
   },
   "outputs": [
    {
     "data": {
      "text/html": [
       "<div>\n",
       "<style scoped>\n",
       "    .dataframe tbody tr th:only-of-type {\n",
       "        vertical-align: middle;\n",
       "    }\n",
       "\n",
       "    .dataframe tbody tr th {\n",
       "        vertical-align: top;\n",
       "    }\n",
       "\n",
       "    .dataframe thead th {\n",
       "        text-align: right;\n",
       "    }\n",
       "</style>\n",
       "<table border=\"1\" class=\"dataframe\">\n",
       "  <thead>\n",
       "    <tr style=\"text-align: right;\">\n",
       "      <th></th>\n",
       "      <th>Numero_pedido</th>\n",
       "      <th>producto</th>\n",
       "      <th>cantidad</th>\n",
       "      <th>precio</th>\n",
       "      <th>linea_de_pedido</th>\n",
       "    </tr>\n",
       "  </thead>\n",
       "  <tbody>\n",
       "    <tr>\n",
       "      <th>0</th>\n",
       "      <td>10105</td>\n",
       "      <td>S700_2610</td>\n",
       "      <td>31</td>\n",
       "      <td>65.77</td>\n",
       "      <td>3</td>\n",
       "    </tr>\n",
       "    <tr>\n",
       "      <th>1</th>\n",
       "      <td>10105</td>\n",
       "      <td>S700_3505</td>\n",
       "      <td>39</td>\n",
       "      <td>81.14</td>\n",
       "      <td>6</td>\n",
       "    </tr>\n",
       "    <tr>\n",
       "      <th>2</th>\n",
       "      <td>10105</td>\n",
       "      <td>S700_3962</td>\n",
       "      <td>22</td>\n",
       "      <td>116.19</td>\n",
       "      <td>7</td>\n",
       "    </tr>\n",
       "    <tr>\n",
       "      <th>3</th>\n",
       "      <td>10105</td>\n",
       "      <td>S72_3212</td>\n",
       "      <td>25</td>\n",
       "      <td>56.78</td>\n",
       "      <td>8</td>\n",
       "    </tr>\n",
       "    <tr>\n",
       "      <th>4</th>\n",
       "      <td>10106</td>\n",
       "      <td>S18_1662</td>\n",
       "      <td>36</td>\n",
       "      <td>146.65</td>\n",
       "      <td>12</td>\n",
       "    </tr>\n",
       "    <tr>\n",
       "      <th>...</th>\n",
       "      <td>...</td>\n",
       "      <td>...</td>\n",
       "      <td>...</td>\n",
       "      <td>...</td>\n",
       "      <td>...</td>\n",
       "    </tr>\n",
       "    <tr>\n",
       "      <th>195</th>\n",
       "      <td>10126</td>\n",
       "      <td>S700_2824</td>\n",
       "      <td>45</td>\n",
       "      <td>102.16</td>\n",
       "      <td>6</td>\n",
       "    </tr>\n",
       "    <tr>\n",
       "      <th>196</th>\n",
       "      <td>10127</td>\n",
       "      <td>S12_1108</td>\n",
       "      <td>46</td>\n",
       "      <td>245.20</td>\n",
       "      <td>2</td>\n",
       "    </tr>\n",
       "    <tr>\n",
       "      <th>197</th>\n",
       "      <td>10127</td>\n",
       "      <td>S12_3148</td>\n",
       "      <td>46</td>\n",
       "      <td>160.14</td>\n",
       "      <td>3</td>\n",
       "    </tr>\n",
       "    <tr>\n",
       "      <th>198</th>\n",
       "      <td>10127</td>\n",
       "      <td>S12_3891</td>\n",
       "      <td>42</td>\n",
       "      <td>193.78</td>\n",
       "      <td>1</td>\n",
       "    </tr>\n",
       "    <tr>\n",
       "      <th>199</th>\n",
       "      <td>10127</td>\n",
       "      <td>S12_4473</td>\n",
       "      <td>24</td>\n",
       "      <td>106.65</td>\n",
       "      <td>11</td>\n",
       "    </tr>\n",
       "  </tbody>\n",
       "</table>\n",
       "<p>200 rows × 5 columns</p>\n",
       "</div>"
      ],
      "text/plain": [
       "     Numero_pedido   producto  cantidad  precio  linea_de_pedido\n",
       "0            10105  S700_2610        31   65.77                3\n",
       "1            10105  S700_3505        39   81.14                6\n",
       "2            10105  S700_3962        22  116.19                7\n",
       "3            10105   S72_3212        25   56.78                8\n",
       "4            10106   S18_1662        36  146.65               12\n",
       "..             ...        ...       ...     ...              ...\n",
       "195          10126  S700_2824        45  102.16                6\n",
       "196          10127   S12_1108        46  245.20                2\n",
       "197          10127   S12_3148        46  160.14                3\n",
       "198          10127   S12_3891        42  193.78                1\n",
       "199          10127   S12_4473        24  106.65               11\n",
       "\n",
       "[200 rows x 5 columns]"
      ]
     },
     "execution_count": 18,
     "metadata": {},
     "output_type": "execute_result"
    }
   ],
   "source": [
    "# Sol:\n",
    "pedidos=pd.read_csv(\"pedidos.csv\",sep=\"|\", decimal=\",\")\n",
    "pedidos"
   ]
  },
  {
   "cell_type": "markdown",
   "metadata": {},
   "source": [
    "__b)__ Modifica los valores del precio unitario a 0 cuando el valor sea NaN."
   ]
  },
  {
   "cell_type": "code",
   "execution_count": 27,
   "metadata": {
    "ExecuteTime": {
     "end_time": "2019-01-06T09:06:16.802568Z",
     "start_time": "2019-01-06T09:06:16.799101Z"
    }
   },
   "outputs": [],
   "source": [
    "# Sol:\n",
    "pedidos[\"precio\"]=pedidos[\"precio\"].fillna(0)"
   ]
  },
  {
   "cell_type": "markdown",
   "metadata": {},
   "source": [
    "\n",
    "__c)__ Calcula el número de pedido (o pedidos) que contengan el producto más caro."
   ]
  },
  {
   "cell_type": "code",
   "execution_count": 28,
   "metadata": {
    "ExecuteTime": {
     "end_time": "2019-01-06T09:06:16.802568Z",
     "start_time": "2019-01-06T09:06:16.799101Z"
    }
   },
   "outputs": [
    {
     "data": {
      "text/plain": [
       "248.59"
      ]
     },
     "execution_count": 28,
     "metadata": {},
     "output_type": "execute_result"
    }
   ],
   "source": [
    "# Sol:\n",
    "pedidos[\"precio\"].max()"
   ]
  },
  {
   "cell_type": "markdown",
   "metadata": {},
   "source": [
    "__d)__ ¿Qué productos aparecen en los pedidos del dataset? Usa `unique`.\n"
   ]
  },
  {
   "cell_type": "code",
   "execution_count": 29,
   "metadata": {
    "ExecuteTime": {
     "end_time": "2019-01-06T09:06:17.931605Z",
     "start_time": "2019-01-06T09:06:17.928598Z"
    }
   },
   "outputs": [
    {
     "data": {
      "text/plain": [
       "array(['S700_2610', 'S700_3505', 'S700_3962', 'S72_3212', 'S18_1662',\n",
       "       'S18_2581', 'S18_3029', 'S18_3856', 'S24_1785', 'S24_2841',\n",
       "       'S24_3420', 'S24_3949', 'S24_4278', 'S32_4289', 'S50_1341',\n",
       "       'S700_1691', 'S700_2047', 'S700_2466', 'S700_2834', 'S700_3167',\n",
       "       'S700_4002', 'S72_1253', 'S10_1678', 'S10_2016', 'S10_4698',\n",
       "       'S12_2823', 'S18_2625', 'S24_1578', 'S24_2000', 'S32_1374',\n",
       "       'S12_1099', 'S12_3380', 'S12_3990', 'S12_4675', 'S18_1889',\n",
       "       'S18_3278', 'S18_3482', 'S18_3782', 'S18_4721', 'S24_2360',\n",
       "       'S24_3371', 'S24_3856', 'S24_4620', 'S32_2206', 'S32_4485',\n",
       "       'S50_4713', 'S18_1129', 'S18_1984', 'S18_2870', 'S18_3232',\n",
       "       'S18_3685', 'S24_2972', 'S18_1589', 'S18_1749', 'S18_2248',\n",
       "       'S18_2325', 'S18_2795', 'S18_4409', 'S18_4933', 'S24_1046',\n",
       "       'S24_1628', 'S24_1937', 'S24_2022', 'S24_2766', 'S24_2887',\n",
       "       'S24_3191', 'S24_3432', 'S24_3969', 'S18_1342', 'S18_1367',\n",
       "       'S18_2957', 'S18_3136', 'S18_3320', 'S24_4258', 'S10_1949',\n",
       "       'S18_2949', 'S12_1666', 'S18_1097', 'S18_4668', 'S32_3522',\n",
       "       'S10_4962', 'S18_2319', 'S18_2432', 'S18_4600', 'S24_2300',\n",
       "       'S24_2840', 'S32_1268', 'S32_2509', 'S700_2824', 'S12_4473',\n",
       "       'S18_2238', 'S24_1444', 'S24_4048', 'S50_1392', 'S32_3207',\n",
       "       'S12_1108', 'S12_3148', 'S12_3891', 'S18_3140', 'S18_3259',\n",
       "       'S18_4027', 'S18_4522', 'S24_2011', 'S50_1514', 'S700_1938',\n",
       "       'S10_4757', 'S24_3151', 'S24_3816', 'S700_1138'], dtype=object)"
      ]
     },
     "execution_count": 29,
     "metadata": {},
     "output_type": "execute_result"
    }
   ],
   "source": [
    "# Sol:\n",
    "pedidos[\"producto\"].unique()"
   ]
  },
  {
   "cell_type": "markdown",
   "metadata": {},
   "source": [
    "__e)__ ¿Cúantas veces aparece cada producto en el dataset? Usa `value_counts`."
   ]
  },
  {
   "cell_type": "code",
   "execution_count": 31,
   "metadata": {
    "ExecuteTime": {
     "end_time": "2019-01-06T09:06:20.570092Z",
     "start_time": "2019-01-06T09:06:20.567116Z"
    }
   },
   "outputs": [
    {
     "data": {
      "text/plain": [
       "S18_3232     3\n",
       "S700_2610    2\n",
       "S18_4933     2\n",
       "S24_3432     2\n",
       "S24_3191     2\n",
       "            ..\n",
       "S24_1444     1\n",
       "S18_2238     1\n",
       "S32_2509     1\n",
       "S24_2840     1\n",
       "S700_1138    1\n",
       "Name: producto, Length: 109, dtype: int64"
      ]
     },
     "execution_count": 31,
     "metadata": {},
     "output_type": "execute_result"
    }
   ],
   "source": [
    "# Sol:\n",
    "pedidos[\"producto\"].value_counts()"
   ]
  },
  {
   "cell_type": "markdown",
   "metadata": {},
   "source": [
    "__f)__ Crea una nueva columna llamada `total_linea` que sea el importe total de la línea de pedido (precio unitario multiplicado por la cantidad)."
   ]
  },
  {
   "cell_type": "code",
   "execution_count": 34,
   "metadata": {
    "ExecuteTime": {
     "end_time": "2019-01-06T09:06:21.674433Z",
     "start_time": "2019-01-06T09:06:21.670961Z"
    }
   },
   "outputs": [
    {
     "data": {
      "text/plain": [
       "0       2038.87\n",
       "1       3164.46\n",
       "2       2556.18\n",
       "3       1419.50\n",
       "4       5279.40\n",
       "         ...   \n",
       "195     4597.20\n",
       "196    11279.20\n",
       "197     7366.44\n",
       "198     8138.76\n",
       "199     2559.60\n",
       "Name: total_linea, Length: 200, dtype: float64"
      ]
     },
     "execution_count": 34,
     "metadata": {},
     "output_type": "execute_result"
    }
   ],
   "source": [
    "# Sol:\n",
    "pedidos[\"total_linea\"]=pedidos[\"precio\"]*pedidos[\"cantidad\"]\n",
    "pedidos[\"total_linea\"]"
   ]
  },
  {
   "cell_type": "markdown",
   "metadata": {},
   "source": [
    "__g)__ Incrementa el precio de las líneas de pedido un 10% para aquellos productos cuyo precio sea superior a 80 Euros. Para ello crea una nueva columna llamada `Descuento`.\n",
    "\n",
    "* Crea una función que reciba como parámetro un valor de tipo entero que representa el precio. Si dicho valor es mayor de 80, la función lo devuelve incrementado en un 10%. Si el valor es menor o igual a 80, la función devuelve dicho valor sin cambios. \n",
    "* Aplica la función anterior usando  `map` sobre la columna `precio`."
   ]
  },
  {
   "cell_type": "code",
   "execution_count": 41,
   "metadata": {
    "ExecuteTime": {
     "end_time": "2019-01-06T09:06:21.674433Z",
     "start_time": "2019-01-06T09:06:21.670961Z"
    }
   },
   "outputs": [
    {
     "data": {
      "text/plain": [
       "0       65.770\n",
       "1       89.254\n",
       "2      127.809\n",
       "3       56.780\n",
       "4      161.315\n",
       "        ...   \n",
       "195    112.376\n",
       "196    269.720\n",
       "197    176.154\n",
       "198    213.158\n",
       "199    117.315\n",
       "Name: precio, Length: 200, dtype: float64"
      ]
     },
     "execution_count": 41,
     "metadata": {},
     "output_type": "execute_result"
    }
   ],
   "source": [
    "# Sol:\n",
    "\n",
    "def actualizar_precio(precio):\n",
    "    return precio * 1.1 if precio > 80 else precio\n",
    "\n",
    "\n",
    "pedidos[\"precio\"].map(actualizar_precio)"
   ]
  },
  {
   "cell_type": "code",
   "execution_count": null,
   "metadata": {},
   "outputs": [],
   "source": []
  }
 ],
 "metadata": {
  "anaconda-cloud": {},
  "kernelspec": {
   "display_name": "torch_kernel",
   "language": "python",
   "name": "torch_kernel"
  },
  "language_info": {
   "codemirror_mode": {
    "name": "ipython",
    "version": 3
   },
   "file_extension": ".py",
   "mimetype": "text/x-python",
   "name": "python",
   "nbconvert_exporter": "python",
   "pygments_lexer": "ipython3",
   "version": "3.12.6"
  },
  "nbTranslate": {
   "displayLangs": [
    "en",
    "es"
   ],
   "hotkey": "alt-t",
   "langInMainMenu": true,
   "sourceLang": "es",
   "targetLang": "en",
   "useGoogleTranslate": true
  },
  "toc": {
   "nav_menu": {
    "height": "86px",
    "width": "252px"
   },
   "number_sections": true,
   "sideBar": true,
   "skip_h1_title": false,
   "title_cell": "Table of Contents",
   "title_sidebar": "Contents",
   "toc_cell": false,
   "toc_position": {},
   "toc_section_display": "block",
   "toc_window_display": false
  }
 },
 "nbformat": 4,
 "nbformat_minor": 4
}
