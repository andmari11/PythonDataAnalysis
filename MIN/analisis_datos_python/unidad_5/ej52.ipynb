{
 "cells": [
  {
   "cell_type": "markdown",
   "metadata": {},
   "source": [
    "<div id=\"navegacion\" prev=\"../Tema_7/t7_pandas_034.html\" next=\"\"></div>\n",
    "\n",
    "<div class=\"section-title\">Sección 5.5</div>"
   ]
  },
  {
   "cell_type": "markdown",
   "metadata": {},
   "source": [
    "# Ejercicios "
   ]
  },
  {
   "cell_type": "markdown",
   "metadata": {
    "collapsed": true,
    "jupyter": {
     "outputs_hidden": true
    }
   },
   "source": [
    "## Ejercicio 1"
   ]
  },
  {
   "cell_type": "markdown",
   "metadata": {},
   "source": [
    "El fichero [pedidos.csv](./datos/pedidos.csv) recoge los datos de los pedidos de una empresa en su último trimestre. Cada pedido puede tener distintas lineas de pedido, donde cada línea representa un producto.\n",
    "\n",
    "La información del fichero por columnas es: \n",
    "* Número de pedido\n",
    "* Linea de pedido\n",
    "* Producto\n",
    "* Cantidad\n",
    "* Precio unitario en Euros (separador de decimales = ',')\n",
    "\n",
    "\n",
    "\n",
    "__a)__ Carga los datos en un DataFrame con la función `read_csv`. \n",
    "\n",
    "* El índice del DataFrame ha de ser el número de pedido.\n",
    "* Para ver las opcciones de la función `read_csv` ejecuta la siguiente celda:"
   ]
  },
  {
   "cell_type": "code",
   "execution_count": 5,
   "metadata": {
    "ExecuteTime": {
     "end_time": "2019-01-06T09:06:06.881243Z",
     "start_time": "2019-01-06T09:06:03.708000Z"
    }
   },
   "outputs": [
    {
     "data": {
      "text/plain": [
       "\u001b[1;31mSignature:\u001b[0m\n",
       "\u001b[0mpd\u001b[0m\u001b[1;33m.\u001b[0m\u001b[0mread_excel\u001b[0m\u001b[1;33m(\u001b[0m\u001b[1;33m\n",
       "\u001b[0m    \u001b[0mio\u001b[0m\u001b[1;33m,\u001b[0m\u001b[1;33m\n",
       "\u001b[0m    \u001b[0msheet_name\u001b[0m\u001b[1;33m:\u001b[0m \u001b[1;34m'str | int | list[IntStrT] | None'\u001b[0m \u001b[1;33m=\u001b[0m \u001b[1;36m0\u001b[0m\u001b[1;33m,\u001b[0m\u001b[1;33m\n",
       "\u001b[0m    \u001b[1;33m*\u001b[0m\u001b[1;33m,\u001b[0m\u001b[1;33m\n",
       "\u001b[0m    \u001b[0mheader\u001b[0m\u001b[1;33m:\u001b[0m \u001b[1;34m'int | Sequence[int] | None'\u001b[0m \u001b[1;33m=\u001b[0m \u001b[1;36m0\u001b[0m\u001b[1;33m,\u001b[0m\u001b[1;33m\n",
       "\u001b[0m    \u001b[0mnames\u001b[0m\u001b[1;33m:\u001b[0m \u001b[1;34m'SequenceNotStr[Hashable] | range | None'\u001b[0m \u001b[1;33m=\u001b[0m \u001b[1;32mNone\u001b[0m\u001b[1;33m,\u001b[0m\u001b[1;33m\n",
       "\u001b[0m    \u001b[0mindex_col\u001b[0m\u001b[1;33m:\u001b[0m \u001b[1;34m'int | str | Sequence[int] | None'\u001b[0m \u001b[1;33m=\u001b[0m \u001b[1;32mNone\u001b[0m\u001b[1;33m,\u001b[0m\u001b[1;33m\n",
       "\u001b[0m    \u001b[0musecols\u001b[0m\u001b[1;33m:\u001b[0m \u001b[1;34m'int | str | Sequence[int] | Sequence[str] | Callable[[str], bool] | None'\u001b[0m \u001b[1;33m=\u001b[0m \u001b[1;32mNone\u001b[0m\u001b[1;33m,\u001b[0m\u001b[1;33m\n",
       "\u001b[0m    \u001b[0mdtype\u001b[0m\u001b[1;33m:\u001b[0m \u001b[1;34m'DtypeArg | None'\u001b[0m \u001b[1;33m=\u001b[0m \u001b[1;32mNone\u001b[0m\u001b[1;33m,\u001b[0m\u001b[1;33m\n",
       "\u001b[0m    \u001b[0mengine\u001b[0m\u001b[1;33m:\u001b[0m \u001b[1;34m\"Literal['xlrd', 'openpyxl', 'odf', 'pyxlsb', 'calamine'] | None\"\u001b[0m \u001b[1;33m=\u001b[0m \u001b[1;32mNone\u001b[0m\u001b[1;33m,\u001b[0m\u001b[1;33m\n",
       "\u001b[0m    \u001b[0mconverters\u001b[0m\u001b[1;33m:\u001b[0m \u001b[1;34m'dict[str, Callable] | dict[int, Callable] | None'\u001b[0m \u001b[1;33m=\u001b[0m \u001b[1;32mNone\u001b[0m\u001b[1;33m,\u001b[0m\u001b[1;33m\n",
       "\u001b[0m    \u001b[0mtrue_values\u001b[0m\u001b[1;33m:\u001b[0m \u001b[1;34m'Iterable[Hashable] | None'\u001b[0m \u001b[1;33m=\u001b[0m \u001b[1;32mNone\u001b[0m\u001b[1;33m,\u001b[0m\u001b[1;33m\n",
       "\u001b[0m    \u001b[0mfalse_values\u001b[0m\u001b[1;33m:\u001b[0m \u001b[1;34m'Iterable[Hashable] | None'\u001b[0m \u001b[1;33m=\u001b[0m \u001b[1;32mNone\u001b[0m\u001b[1;33m,\u001b[0m\u001b[1;33m\n",
       "\u001b[0m    \u001b[0mskiprows\u001b[0m\u001b[1;33m:\u001b[0m \u001b[1;34m'Sequence[int] | int | Callable[[int], object] | None'\u001b[0m \u001b[1;33m=\u001b[0m \u001b[1;32mNone\u001b[0m\u001b[1;33m,\u001b[0m\u001b[1;33m\n",
       "\u001b[0m    \u001b[0mnrows\u001b[0m\u001b[1;33m:\u001b[0m \u001b[1;34m'int | None'\u001b[0m \u001b[1;33m=\u001b[0m \u001b[1;32mNone\u001b[0m\u001b[1;33m,\u001b[0m\u001b[1;33m\n",
       "\u001b[0m    \u001b[0mna_values\u001b[0m\u001b[1;33m=\u001b[0m\u001b[1;32mNone\u001b[0m\u001b[1;33m,\u001b[0m\u001b[1;33m\n",
       "\u001b[0m    \u001b[0mkeep_default_na\u001b[0m\u001b[1;33m:\u001b[0m \u001b[1;34m'bool'\u001b[0m \u001b[1;33m=\u001b[0m \u001b[1;32mTrue\u001b[0m\u001b[1;33m,\u001b[0m\u001b[1;33m\n",
       "\u001b[0m    \u001b[0mna_filter\u001b[0m\u001b[1;33m:\u001b[0m \u001b[1;34m'bool'\u001b[0m \u001b[1;33m=\u001b[0m \u001b[1;32mTrue\u001b[0m\u001b[1;33m,\u001b[0m\u001b[1;33m\n",
       "\u001b[0m    \u001b[0mverbose\u001b[0m\u001b[1;33m:\u001b[0m \u001b[1;34m'bool'\u001b[0m \u001b[1;33m=\u001b[0m \u001b[1;32mFalse\u001b[0m\u001b[1;33m,\u001b[0m\u001b[1;33m\n",
       "\u001b[0m    \u001b[0mparse_dates\u001b[0m\u001b[1;33m:\u001b[0m \u001b[1;34m'list | dict | bool'\u001b[0m \u001b[1;33m=\u001b[0m \u001b[1;32mFalse\u001b[0m\u001b[1;33m,\u001b[0m\u001b[1;33m\n",
       "\u001b[0m    \u001b[0mdate_parser\u001b[0m\u001b[1;33m:\u001b[0m \u001b[1;34m'Callable | lib.NoDefault'\u001b[0m \u001b[1;33m=\u001b[0m \u001b[1;33m<\u001b[0m\u001b[0mno_default\u001b[0m\u001b[1;33m>\u001b[0m\u001b[1;33m,\u001b[0m\u001b[1;33m\n",
       "\u001b[0m    \u001b[0mdate_format\u001b[0m\u001b[1;33m:\u001b[0m \u001b[1;34m'dict[Hashable, str] | str | None'\u001b[0m \u001b[1;33m=\u001b[0m \u001b[1;32mNone\u001b[0m\u001b[1;33m,\u001b[0m\u001b[1;33m\n",
       "\u001b[0m    \u001b[0mthousands\u001b[0m\u001b[1;33m:\u001b[0m \u001b[1;34m'str | None'\u001b[0m \u001b[1;33m=\u001b[0m \u001b[1;32mNone\u001b[0m\u001b[1;33m,\u001b[0m\u001b[1;33m\n",
       "\u001b[0m    \u001b[0mdecimal\u001b[0m\u001b[1;33m:\u001b[0m \u001b[1;34m'str'\u001b[0m \u001b[1;33m=\u001b[0m \u001b[1;34m'.'\u001b[0m\u001b[1;33m,\u001b[0m\u001b[1;33m\n",
       "\u001b[0m    \u001b[0mcomment\u001b[0m\u001b[1;33m:\u001b[0m \u001b[1;34m'str | None'\u001b[0m \u001b[1;33m=\u001b[0m \u001b[1;32mNone\u001b[0m\u001b[1;33m,\u001b[0m\u001b[1;33m\n",
       "\u001b[0m    \u001b[0mskipfooter\u001b[0m\u001b[1;33m:\u001b[0m \u001b[1;34m'int'\u001b[0m \u001b[1;33m=\u001b[0m \u001b[1;36m0\u001b[0m\u001b[1;33m,\u001b[0m\u001b[1;33m\n",
       "\u001b[0m    \u001b[0mstorage_options\u001b[0m\u001b[1;33m:\u001b[0m \u001b[1;34m'StorageOptions | None'\u001b[0m \u001b[1;33m=\u001b[0m \u001b[1;32mNone\u001b[0m\u001b[1;33m,\u001b[0m\u001b[1;33m\n",
       "\u001b[0m    \u001b[0mdtype_backend\u001b[0m\u001b[1;33m:\u001b[0m \u001b[1;34m'DtypeBackend | lib.NoDefault'\u001b[0m \u001b[1;33m=\u001b[0m \u001b[1;33m<\u001b[0m\u001b[0mno_default\u001b[0m\u001b[1;33m>\u001b[0m\u001b[1;33m,\u001b[0m\u001b[1;33m\n",
       "\u001b[0m    \u001b[0mengine_kwargs\u001b[0m\u001b[1;33m:\u001b[0m \u001b[1;34m'dict | None'\u001b[0m \u001b[1;33m=\u001b[0m \u001b[1;32mNone\u001b[0m\u001b[1;33m,\u001b[0m\u001b[1;33m\n",
       "\u001b[0m\u001b[1;33m)\u001b[0m \u001b[1;33m->\u001b[0m \u001b[1;34m'DataFrame | dict[IntStrT, DataFrame]'\u001b[0m\u001b[1;33m\u001b[0m\u001b[1;33m\u001b[0m\u001b[0m\n",
       "\u001b[1;31mDocstring:\u001b[0m\n",
       "Read an Excel file into a ``pandas`` ``DataFrame``.\n",
       "\n",
       "Supports `xls`, `xlsx`, `xlsm`, `xlsb`, `odf`, `ods` and `odt` file extensions\n",
       "read from a local filesystem or URL. Supports an option to read\n",
       "a single sheet or a list of sheets.\n",
       "\n",
       "Parameters\n",
       "----------\n",
       "io : str, bytes, ExcelFile, xlrd.Book, path object, or file-like object\n",
       "    Any valid string path is acceptable. The string could be a URL. Valid\n",
       "    URL schemes include http, ftp, s3, and file. For file URLs, a host is\n",
       "    expected. A local file could be: ``file://localhost/path/to/table.xlsx``.\n",
       "\n",
       "    If you want to pass in a path object, pandas accepts any ``os.PathLike``.\n",
       "\n",
       "    By file-like object, we refer to objects with a ``read()`` method,\n",
       "    such as a file handle (e.g. via builtin ``open`` function)\n",
       "    or ``StringIO``.\n",
       "\n",
       "    .. deprecated:: 2.1.0\n",
       "        Passing byte strings is deprecated. To read from a\n",
       "        byte string, wrap it in a ``BytesIO`` object.\n",
       "sheet_name : str, int, list, or None, default 0\n",
       "    Strings are used for sheet names. Integers are used in zero-indexed\n",
       "    sheet positions (chart sheets do not count as a sheet position).\n",
       "    Lists of strings/integers are used to request multiple sheets.\n",
       "    Specify ``None`` to get all worksheets.\n",
       "\n",
       "    Available cases:\n",
       "\n",
       "    * Defaults to ``0``: 1st sheet as a `DataFrame`\n",
       "    * ``1``: 2nd sheet as a `DataFrame`\n",
       "    * ``\"Sheet1\"``: Load sheet with name \"Sheet1\"\n",
       "    * ``[0, 1, \"Sheet5\"]``: Load first, second and sheet named \"Sheet5\"\n",
       "      as a dict of `DataFrame`\n",
       "    * ``None``: All worksheets.\n",
       "\n",
       "header : int, list of int, default 0\n",
       "    Row (0-indexed) to use for the column labels of the parsed\n",
       "    DataFrame. If a list of integers is passed those row positions will\n",
       "    be combined into a ``MultiIndex``. Use None if there is no header.\n",
       "names : array-like, default None\n",
       "    List of column names to use. If file contains no header row,\n",
       "    then you should explicitly pass header=None.\n",
       "index_col : int, str, list of int, default None\n",
       "    Column (0-indexed) to use as the row labels of the DataFrame.\n",
       "    Pass None if there is no such column.  If a list is passed,\n",
       "    those columns will be combined into a ``MultiIndex``.  If a\n",
       "    subset of data is selected with ``usecols``, index_col\n",
       "    is based on the subset.\n",
       "\n",
       "    Missing values will be forward filled to allow roundtripping with\n",
       "    ``to_excel`` for ``merged_cells=True``. To avoid forward filling the\n",
       "    missing values use ``set_index`` after reading the data instead of\n",
       "    ``index_col``.\n",
       "usecols : str, list-like, or callable, default None\n",
       "    * If None, then parse all columns.\n",
       "    * If str, then indicates comma separated list of Excel column letters\n",
       "      and column ranges (e.g. \"A:E\" or \"A,C,E:F\"). Ranges are inclusive of\n",
       "      both sides.\n",
       "    * If list of int, then indicates list of column numbers to be parsed\n",
       "      (0-indexed).\n",
       "    * If list of string, then indicates list of column names to be parsed.\n",
       "    * If callable, then evaluate each column name against it and parse the\n",
       "      column if the callable returns ``True``.\n",
       "\n",
       "    Returns a subset of the columns according to behavior above.\n",
       "dtype : Type name or dict of column -> type, default None\n",
       "    Data type for data or columns. E.g. {'a': np.float64, 'b': np.int32}\n",
       "    Use ``object`` to preserve data as stored in Excel and not interpret dtype,\n",
       "    which will necessarily result in ``object`` dtype.\n",
       "    If converters are specified, they will be applied INSTEAD\n",
       "    of dtype conversion.\n",
       "    If you use ``None``, it will infer the dtype of each column based on the data.\n",
       "engine : {'openpyxl', 'calamine', 'odf', 'pyxlsb', 'xlrd'}, default None\n",
       "    If io is not a buffer or path, this must be set to identify io.\n",
       "    Engine compatibility :\n",
       "\n",
       "    - ``openpyxl`` supports newer Excel file formats.\n",
       "    - ``calamine`` supports Excel (.xls, .xlsx, .xlsm, .xlsb)\n",
       "      and OpenDocument (.ods) file formats.\n",
       "    - ``odf`` supports OpenDocument file formats (.odf, .ods, .odt).\n",
       "    - ``pyxlsb`` supports Binary Excel files.\n",
       "    - ``xlrd`` supports old-style Excel files (.xls).\n",
       "\n",
       "    When ``engine=None``, the following logic will be used to determine the engine:\n",
       "\n",
       "    - If ``path_or_buffer`` is an OpenDocument format (.odf, .ods, .odt),\n",
       "      then `odf <https://pypi.org/project/odfpy/>`_ will be used.\n",
       "    - Otherwise if ``path_or_buffer`` is an xls format, ``xlrd`` will be used.\n",
       "    - Otherwise if ``path_or_buffer`` is in xlsb format, ``pyxlsb`` will be used.\n",
       "    - Otherwise ``openpyxl`` will be used.\n",
       "converters : dict, default None\n",
       "    Dict of functions for converting values in certain columns. Keys can\n",
       "    either be integers or column labels, values are functions that take one\n",
       "    input argument, the Excel cell content, and return the transformed\n",
       "    content.\n",
       "true_values : list, default None\n",
       "    Values to consider as True.\n",
       "false_values : list, default None\n",
       "    Values to consider as False.\n",
       "skiprows : list-like, int, or callable, optional\n",
       "    Line numbers to skip (0-indexed) or number of lines to skip (int) at the\n",
       "    start of the file. If callable, the callable function will be evaluated\n",
       "    against the row indices, returning True if the row should be skipped and\n",
       "    False otherwise. An example of a valid callable argument would be ``lambda\n",
       "    x: x in [0, 2]``.\n",
       "nrows : int, default None\n",
       "    Number of rows to parse.\n",
       "na_values : scalar, str, list-like, or dict, default None\n",
       "    Additional strings to recognize as NA/NaN. If dict passed, specific\n",
       "    per-column NA values. By default the following values are interpreted\n",
       "    as NaN: '', '#N/A', '#N/A N/A', '#NA', '-1.#IND', '-1.#QNAN', '-NaN', '-nan',\n",
       "    '1.#IND', '1.#QNAN', '<NA>', 'N/A', 'NA', 'NULL', 'NaN', 'None',\n",
       "    'n/a', 'nan', 'null'.\n",
       "keep_default_na : bool, default True\n",
       "    Whether or not to include the default NaN values when parsing the data.\n",
       "    Depending on whether ``na_values`` is passed in, the behavior is as follows:\n",
       "\n",
       "    * If ``keep_default_na`` is True, and ``na_values`` are specified,\n",
       "      ``na_values`` is appended to the default NaN values used for parsing.\n",
       "    * If ``keep_default_na`` is True, and ``na_values`` are not specified, only\n",
       "      the default NaN values are used for parsing.\n",
       "    * If ``keep_default_na`` is False, and ``na_values`` are specified, only\n",
       "      the NaN values specified ``na_values`` are used for parsing.\n",
       "    * If ``keep_default_na`` is False, and ``na_values`` are not specified, no\n",
       "      strings will be parsed as NaN.\n",
       "\n",
       "    Note that if `na_filter` is passed in as False, the ``keep_default_na`` and\n",
       "    ``na_values`` parameters will be ignored.\n",
       "na_filter : bool, default True\n",
       "    Detect missing value markers (empty strings and the value of na_values). In\n",
       "    data without any NAs, passing ``na_filter=False`` can improve the\n",
       "    performance of reading a large file.\n",
       "verbose : bool, default False\n",
       "    Indicate number of NA values placed in non-numeric columns.\n",
       "parse_dates : bool, list-like, or dict, default False\n",
       "    The behavior is as follows:\n",
       "\n",
       "    * ``bool``. If True -> try parsing the index.\n",
       "    * ``list`` of int or names. e.g. If [1, 2, 3] -> try parsing columns 1, 2, 3\n",
       "      each as a separate date column.\n",
       "    * ``list`` of lists. e.g.  If [[1, 3]] -> combine columns 1 and 3 and parse as\n",
       "      a single date column.\n",
       "    * ``dict``, e.g. {'foo' : [1, 3]} -> parse columns 1, 3 as date and call\n",
       "      result 'foo'\n",
       "\n",
       "    If a column or index contains an unparsable date, the entire column or\n",
       "    index will be returned unaltered as an object data type. If you don`t want to\n",
       "    parse some cells as date just change their type in Excel to \"Text\".\n",
       "    For non-standard datetime parsing, use ``pd.to_datetime`` after ``pd.read_excel``.\n",
       "\n",
       "    Note: A fast-path exists for iso8601-formatted dates.\n",
       "date_parser : function, optional\n",
       "    Function to use for converting a sequence of string columns to an array of\n",
       "    datetime instances. The default uses ``dateutil.parser.parser`` to do the\n",
       "    conversion. Pandas will try to call `date_parser` in three different ways,\n",
       "    advancing to the next if an exception occurs: 1) Pass one or more arrays\n",
       "    (as defined by `parse_dates`) as arguments; 2) concatenate (row-wise) the\n",
       "    string values from the columns defined by `parse_dates` into a single array\n",
       "    and pass that; and 3) call `date_parser` once for each row using one or\n",
       "    more strings (corresponding to the columns defined by `parse_dates`) as\n",
       "    arguments.\n",
       "\n",
       "    .. deprecated:: 2.0.0\n",
       "       Use ``date_format`` instead, or read in as ``object`` and then apply\n",
       "       :func:`to_datetime` as-needed.\n",
       "date_format : str or dict of column -> format, default ``None``\n",
       "   If used in conjunction with ``parse_dates``, will parse dates according to this\n",
       "   format. For anything more complex,\n",
       "   please read in as ``object`` and then apply :func:`to_datetime` as-needed.\n",
       "\n",
       "   .. versionadded:: 2.0.0\n",
       "thousands : str, default None\n",
       "    Thousands separator for parsing string columns to numeric.  Note that\n",
       "    this parameter is only necessary for columns stored as TEXT in Excel,\n",
       "    any numeric columns will automatically be parsed, regardless of display\n",
       "    format.\n",
       "decimal : str, default '.'\n",
       "    Character to recognize as decimal point for parsing string columns to numeric.\n",
       "    Note that this parameter is only necessary for columns stored as TEXT in Excel,\n",
       "    any numeric columns will automatically be parsed, regardless of display\n",
       "    format.(e.g. use ',' for European data).\n",
       "\n",
       "    .. versionadded:: 1.4.0\n",
       "\n",
       "comment : str, default None\n",
       "    Comments out remainder of line. Pass a character or characters to this\n",
       "    argument to indicate comments in the input file. Any data between the\n",
       "    comment string and the end of the current line is ignored.\n",
       "skipfooter : int, default 0\n",
       "    Rows at the end to skip (0-indexed).\n",
       "storage_options : dict, optional\n",
       "    Extra options that make sense for a particular storage connection, e.g.\n",
       "    host, port, username, password, etc. For HTTP(S) URLs the key-value pairs\n",
       "    are forwarded to ``urllib.request.Request`` as header options. For other\n",
       "    URLs (e.g. starting with \"s3://\", and \"gcs://\") the key-value pairs are\n",
       "    forwarded to ``fsspec.open``. Please see ``fsspec`` and ``urllib`` for more\n",
       "    details, and for more examples on storage options refer `here\n",
       "    <https://pandas.pydata.org/docs/user_guide/io.html?\n",
       "    highlight=storage_options#reading-writing-remote-files>`_.\n",
       "\n",
       "dtype_backend : {'numpy_nullable', 'pyarrow'}, default 'numpy_nullable'\n",
       "    Back-end data type applied to the resultant :class:`DataFrame`\n",
       "    (still experimental). Behaviour is as follows:\n",
       "\n",
       "    * ``\"numpy_nullable\"``: returns nullable-dtype-backed :class:`DataFrame`\n",
       "      (default).\n",
       "    * ``\"pyarrow\"``: returns pyarrow-backed nullable :class:`ArrowDtype`\n",
       "      DataFrame.\n",
       "\n",
       "    .. versionadded:: 2.0\n",
       "\n",
       "engine_kwargs : dict, optional\n",
       "    Arbitrary keyword arguments passed to excel engine.\n",
       "\n",
       "Returns\n",
       "-------\n",
       "DataFrame or dict of DataFrames\n",
       "    DataFrame from the passed in Excel file. See notes in sheet_name\n",
       "    argument for more information on when a dict of DataFrames is returned.\n",
       "\n",
       "See Also\n",
       "--------\n",
       "DataFrame.to_excel : Write DataFrame to an Excel file.\n",
       "DataFrame.to_csv : Write DataFrame to a comma-separated values (csv) file.\n",
       "read_csv : Read a comma-separated values (csv) file into DataFrame.\n",
       "read_fwf : Read a table of fixed-width formatted lines into DataFrame.\n",
       "\n",
       "Notes\n",
       "-----\n",
       "For specific information on the methods used for each Excel engine, refer to the pandas\n",
       ":ref:`user guide <io.excel_reader>`\n",
       "\n",
       "Examples\n",
       "--------\n",
       "The file can be read using the file name as string or an open file object:\n",
       "\n",
       ">>> pd.read_excel('tmp.xlsx', index_col=0)  # doctest: +SKIP\n",
       "       Name  Value\n",
       "0   string1      1\n",
       "1   string2      2\n",
       "2  #Comment      3\n",
       "\n",
       ">>> pd.read_excel(open('tmp.xlsx', 'rb'),\n",
       "...               sheet_name='Sheet3')  # doctest: +SKIP\n",
       "   Unnamed: 0      Name  Value\n",
       "0           0   string1      1\n",
       "1           1   string2      2\n",
       "2           2  #Comment      3\n",
       "\n",
       "Index and header can be specified via the `index_col` and `header` arguments\n",
       "\n",
       ">>> pd.read_excel('tmp.xlsx', index_col=None, header=None)  # doctest: +SKIP\n",
       "     0         1      2\n",
       "0  NaN      Name  Value\n",
       "1  0.0   string1      1\n",
       "2  1.0   string2      2\n",
       "3  2.0  #Comment      3\n",
       "\n",
       "Column types are inferred but can be explicitly specified\n",
       "\n",
       ">>> pd.read_excel('tmp.xlsx', index_col=0,\n",
       "...               dtype={'Name': str, 'Value': float})  # doctest: +SKIP\n",
       "       Name  Value\n",
       "0   string1    1.0\n",
       "1   string2    2.0\n",
       "2  #Comment    3.0\n",
       "\n",
       "True, False, and NA values, and thousands separators have defaults,\n",
       "but can be explicitly specified, too. Supply the values you would like\n",
       "as strings or lists of strings!\n",
       "\n",
       ">>> pd.read_excel('tmp.xlsx', index_col=0,\n",
       "...               na_values=['string1', 'string2'])  # doctest: +SKIP\n",
       "       Name  Value\n",
       "0       NaN      1\n",
       "1       NaN      2\n",
       "2  #Comment      3\n",
       "\n",
       "Comment lines in the excel input file can be skipped using the\n",
       "``comment`` kwarg.\n",
       "\n",
       ">>> pd.read_excel('tmp.xlsx', index_col=0, comment='#')  # doctest: +SKIP\n",
       "      Name  Value\n",
       "0  string1    1.0\n",
       "1  string2    2.0\n",
       "2     None    NaN\n",
       "\u001b[1;31mFile:\u001b[0m      c:\\users\\andre\\appdata\\local\\programs\\python\\python312\\lib\\site-packages\\pandas\\io\\excel\\_base.py\n",
       "\u001b[1;31mType:\u001b[0m      function"
      ]
     },
     "metadata": {},
     "output_type": "display_data"
    }
   ],
   "source": [
    "import pandas as pd\n",
    "pd.read_excel?"
   ]
  },
  {
   "cell_type": "code",
   "execution_count": 7,
   "metadata": {
    "ExecuteTime": {
     "end_time": "2019-01-06T09:06:16.802568Z",
     "start_time": "2019-01-06T09:06:16.799101Z"
    }
   },
   "outputs": [
    {
     "data": {
      "text/html": [
       "<div>\n",
       "<style scoped>\n",
       "    .dataframe tbody tr th:only-of-type {\n",
       "        vertical-align: middle;\n",
       "    }\n",
       "\n",
       "    .dataframe tbody tr th {\n",
       "        vertical-align: top;\n",
       "    }\n",
       "\n",
       "    .dataframe thead th {\n",
       "        text-align: right;\n",
       "    }\n",
       "</style>\n",
       "<table border=\"1\" class=\"dataframe\">\n",
       "  <thead>\n",
       "    <tr style=\"text-align: right;\">\n",
       "      <th></th>\n",
       "      <th>Numero_pedido</th>\n",
       "      <th>producto</th>\n",
       "      <th>cantidad</th>\n",
       "      <th>precio</th>\n",
       "      <th>linea_de_pedido</th>\n",
       "    </tr>\n",
       "  </thead>\n",
       "  <tbody>\n",
       "    <tr>\n",
       "      <th>0</th>\n",
       "      <td>10105</td>\n",
       "      <td>S700_2610</td>\n",
       "      <td>31</td>\n",
       "      <td>65.77</td>\n",
       "      <td>3</td>\n",
       "    </tr>\n",
       "    <tr>\n",
       "      <th>1</th>\n",
       "      <td>10105</td>\n",
       "      <td>S700_3505</td>\n",
       "      <td>39</td>\n",
       "      <td>81.14</td>\n",
       "      <td>6</td>\n",
       "    </tr>\n",
       "    <tr>\n",
       "      <th>2</th>\n",
       "      <td>10105</td>\n",
       "      <td>S700_3962</td>\n",
       "      <td>22</td>\n",
       "      <td>116.19</td>\n",
       "      <td>7</td>\n",
       "    </tr>\n",
       "    <tr>\n",
       "      <th>3</th>\n",
       "      <td>10105</td>\n",
       "      <td>S72_3212</td>\n",
       "      <td>25</td>\n",
       "      <td>56.78</td>\n",
       "      <td>8</td>\n",
       "    </tr>\n",
       "    <tr>\n",
       "      <th>4</th>\n",
       "      <td>10106</td>\n",
       "      <td>S18_1662</td>\n",
       "      <td>36</td>\n",
       "      <td>146.65</td>\n",
       "      <td>12</td>\n",
       "    </tr>\n",
       "    <tr>\n",
       "      <th>...</th>\n",
       "      <td>...</td>\n",
       "      <td>...</td>\n",
       "      <td>...</td>\n",
       "      <td>...</td>\n",
       "      <td>...</td>\n",
       "    </tr>\n",
       "    <tr>\n",
       "      <th>195</th>\n",
       "      <td>10126</td>\n",
       "      <td>S700_2824</td>\n",
       "      <td>45</td>\n",
       "      <td>102.16</td>\n",
       "      <td>6</td>\n",
       "    </tr>\n",
       "    <tr>\n",
       "      <th>196</th>\n",
       "      <td>10127</td>\n",
       "      <td>S12_1108</td>\n",
       "      <td>46</td>\n",
       "      <td>245.20</td>\n",
       "      <td>2</td>\n",
       "    </tr>\n",
       "    <tr>\n",
       "      <th>197</th>\n",
       "      <td>10127</td>\n",
       "      <td>S12_3148</td>\n",
       "      <td>46</td>\n",
       "      <td>160.14</td>\n",
       "      <td>3</td>\n",
       "    </tr>\n",
       "    <tr>\n",
       "      <th>198</th>\n",
       "      <td>10127</td>\n",
       "      <td>S12_3891</td>\n",
       "      <td>42</td>\n",
       "      <td>193.78</td>\n",
       "      <td>1</td>\n",
       "    </tr>\n",
       "    <tr>\n",
       "      <th>199</th>\n",
       "      <td>10127</td>\n",
       "      <td>S12_4473</td>\n",
       "      <td>24</td>\n",
       "      <td>106.65</td>\n",
       "      <td>11</td>\n",
       "    </tr>\n",
       "  </tbody>\n",
       "</table>\n",
       "<p>200 rows × 5 columns</p>\n",
       "</div>"
      ],
      "text/plain": [
       "     Numero_pedido   producto  cantidad  precio  linea_de_pedido\n",
       "0            10105  S700_2610        31   65.77                3\n",
       "1            10105  S700_3505        39   81.14                6\n",
       "2            10105  S700_3962        22  116.19                7\n",
       "3            10105   S72_3212        25   56.78                8\n",
       "4            10106   S18_1662        36  146.65               12\n",
       "..             ...        ...       ...     ...              ...\n",
       "195          10126  S700_2824        45  102.16                6\n",
       "196          10127   S12_1108        46  245.20                2\n",
       "197          10127   S12_3148        46  160.14                3\n",
       "198          10127   S12_3891        42  193.78                1\n",
       "199          10127   S12_4473        24  106.65               11\n",
       "\n",
       "[200 rows x 5 columns]"
      ]
     },
     "execution_count": 7,
     "metadata": {},
     "output_type": "execute_result"
    }
   ],
   "source": [
    "# Sol:\n",
    "pedidos=pd.read_csv(\"pedidos.csv\",sep=\"|\", decimal=\",\")\n",
    "pedidos"
   ]
  },
  {
   "cell_type": "markdown",
   "metadata": {},
   "source": [
    "__b)__ Modifica los valores del precio unitario a 0 cuando el valor sea NaN."
   ]
  },
  {
   "cell_type": "code",
   "execution_count": 9,
   "metadata": {
    "ExecuteTime": {
     "end_time": "2019-01-06T09:06:16.802568Z",
     "start_time": "2019-01-06T09:06:16.799101Z"
    }
   },
   "outputs": [],
   "source": [
    "# Sol:\n",
    "pedidos[\"precio\"]=pedidos[\"precio\"].fillna(0)"
   ]
  },
  {
   "cell_type": "markdown",
   "metadata": {},
   "source": [
    "\n",
    "__c)__ Calcula el número de pedido (o pedidos) que contengan el producto más caro."
   ]
  },
  {
   "cell_type": "code",
   "execution_count": 23,
   "metadata": {
    "ExecuteTime": {
     "end_time": "2019-01-06T09:06:16.802568Z",
     "start_time": "2019-01-06T09:06:16.799101Z"
    }
   },
   "outputs": [
    {
     "data": {
      "text/plain": [
       "2"
      ]
     },
     "execution_count": 23,
     "metadata": {},
     "output_type": "execute_result"
    }
   ],
   "source": [
    "# Sol:\n",
    "max_precio=pedidos[\"precio\"].max()\n",
    "\n",
    "productos_max= pedidos[pedidos[\"precio\"]==max_precio][\"producto\"]\n",
    "\n",
    "pedidos_con_max= pedidos[pedidos[\"producto\"].isin(productos_max)][\"Numero_pedido\"].unique()\n",
    "\n",
    "len(pedidos_con_max)"
   ]
  },
  {
   "cell_type": "markdown",
   "metadata": {},
   "source": [
    "__d)__ ¿Qué productos aparecen en los pedidos del dataset? Usa `unique`.\n"
   ]
  },
  {
   "cell_type": "code",
   "execution_count": 29,
   "metadata": {
    "ExecuteTime": {
     "end_time": "2019-01-06T09:06:17.931605Z",
     "start_time": "2019-01-06T09:06:17.928598Z"
    }
   },
   "outputs": [
    {
     "data": {
      "text/plain": [
       "array(['S700_2610', 'S700_3505', 'S700_3962', 'S72_3212', 'S18_1662',\n",
       "       'S18_2581', 'S18_3029', 'S18_3856', 'S24_1785', 'S24_2841',\n",
       "       'S24_3420', 'S24_3949', 'S24_4278', 'S32_4289', 'S50_1341',\n",
       "       'S700_1691', 'S700_2047', 'S700_2466', 'S700_2834', 'S700_3167',\n",
       "       'S700_4002', 'S72_1253', 'S10_1678', 'S10_2016', 'S10_4698',\n",
       "       'S12_2823', 'S18_2625', 'S24_1578', 'S24_2000', 'S32_1374',\n",
       "       'S12_1099', 'S12_3380', 'S12_3990', 'S12_4675', 'S18_1889',\n",
       "       'S18_3278', 'S18_3482', 'S18_3782', 'S18_4721', 'S24_2360',\n",
       "       'S24_3371', 'S24_3856', 'S24_4620', 'S32_2206', 'S32_4485',\n",
       "       'S50_4713', 'S18_1129', 'S18_1984', 'S18_2870', 'S18_3232',\n",
       "       'S18_3685', 'S24_2972', 'S18_1589', 'S18_1749', 'S18_2248',\n",
       "       'S18_2325', 'S18_2795', 'S18_4409', 'S18_4933', 'S24_1046',\n",
       "       'S24_1628', 'S24_1937', 'S24_2022', 'S24_2766', 'S24_2887',\n",
       "       'S24_3191', 'S24_3432', 'S24_3969', 'S18_1342', 'S18_1367',\n",
       "       'S18_2957', 'S18_3136', 'S18_3320', 'S24_4258', 'S10_1949',\n",
       "       'S18_2949', 'S12_1666', 'S18_1097', 'S18_4668', 'S32_3522',\n",
       "       'S10_4962', 'S18_2319', 'S18_2432', 'S18_4600', 'S24_2300',\n",
       "       'S24_2840', 'S32_1268', 'S32_2509', 'S700_2824', 'S12_4473',\n",
       "       'S18_2238', 'S24_1444', 'S24_4048', 'S50_1392', 'S32_3207',\n",
       "       'S12_1108', 'S12_3148', 'S12_3891', 'S18_3140', 'S18_3259',\n",
       "       'S18_4027', 'S18_4522', 'S24_2011', 'S50_1514', 'S700_1938',\n",
       "       'S10_4757', 'S24_3151', 'S24_3816', 'S700_1138'], dtype=object)"
      ]
     },
     "execution_count": 29,
     "metadata": {},
     "output_type": "execute_result"
    }
   ],
   "source": [
    "# Sol:\n",
    "pedidos[\"producto\"].unique()"
   ]
  },
  {
   "cell_type": "markdown",
   "metadata": {},
   "source": [
    "__e)__ ¿Cúantas veces aparece cada producto en el dataset? Usa `value_counts`."
   ]
  },
  {
   "cell_type": "code",
   "execution_count": 31,
   "metadata": {
    "ExecuteTime": {
     "end_time": "2019-01-06T09:06:20.570092Z",
     "start_time": "2019-01-06T09:06:20.567116Z"
    }
   },
   "outputs": [
    {
     "data": {
      "text/plain": [
       "S18_3232     3\n",
       "S700_2610    2\n",
       "S18_4933     2\n",
       "S24_3432     2\n",
       "S24_3191     2\n",
       "            ..\n",
       "S24_1444     1\n",
       "S18_2238     1\n",
       "S32_2509     1\n",
       "S24_2840     1\n",
       "S700_1138    1\n",
       "Name: producto, Length: 109, dtype: int64"
      ]
     },
     "execution_count": 31,
     "metadata": {},
     "output_type": "execute_result"
    }
   ],
   "source": [
    "# Sol:\n",
    "pedidos[\"producto\"].value_counts()"
   ]
  },
  {
   "cell_type": "markdown",
   "metadata": {},
   "source": [
    "__f)__ Crea una nueva columna llamada `total_linea` que sea el importe total de la línea de pedido (precio unitario multiplicado por la cantidad)."
   ]
  },
  {
   "cell_type": "code",
   "execution_count": 34,
   "metadata": {
    "ExecuteTime": {
     "end_time": "2019-01-06T09:06:21.674433Z",
     "start_time": "2019-01-06T09:06:21.670961Z"
    }
   },
   "outputs": [
    {
     "data": {
      "text/plain": [
       "0       2038.87\n",
       "1       3164.46\n",
       "2       2556.18\n",
       "3       1419.50\n",
       "4       5279.40\n",
       "         ...   \n",
       "195     4597.20\n",
       "196    11279.20\n",
       "197     7366.44\n",
       "198     8138.76\n",
       "199     2559.60\n",
       "Name: total_linea, Length: 200, dtype: float64"
      ]
     },
     "execution_count": 34,
     "metadata": {},
     "output_type": "execute_result"
    }
   ],
   "source": [
    "# Sol:\n",
    "pedidos[\"total_linea\"]=pedidos[\"precio\"]*pedidos[\"cantidad\"]\n",
    "pedidos[\"total_linea\"]"
   ]
  },
  {
   "cell_type": "markdown",
   "metadata": {},
   "source": [
    "__g)__ Incrementa el precio de las líneas de pedido un 10% para aquellos productos cuyo precio sea superior a 80 Euros. Para ello crea una nueva columna llamada `Descuento`.\n",
    "\n",
    "* Crea una función que reciba como parámetro un valor de tipo entero que representa el precio. Si dicho valor es mayor de 80, la función lo devuelve incrementado en un 10%. Si el valor es menor o igual a 80, la función devuelve dicho valor sin cambios. \n",
    "* Aplica la función anterior usando  `map` sobre la columna `precio`."
   ]
  },
  {
   "cell_type": "code",
   "execution_count": 41,
   "metadata": {
    "ExecuteTime": {
     "end_time": "2019-01-06T09:06:21.674433Z",
     "start_time": "2019-01-06T09:06:21.670961Z"
    }
   },
   "outputs": [
    {
     "data": {
      "text/plain": [
       "0       65.770\n",
       "1       89.254\n",
       "2      127.809\n",
       "3       56.780\n",
       "4      161.315\n",
       "        ...   \n",
       "195    112.376\n",
       "196    269.720\n",
       "197    176.154\n",
       "198    213.158\n",
       "199    117.315\n",
       "Name: precio, Length: 200, dtype: float64"
      ]
     },
     "execution_count": 41,
     "metadata": {},
     "output_type": "execute_result"
    }
   ],
   "source": [
    "# Sol:\n",
    "\n",
    "def actualizar_precio(precio):\n",
    "    return precio * 1.1 if precio > 80 else precio\n",
    "\n",
    "\n",
    "pedidos[\"precio\"].map(actualizar_precio)"
   ]
  },
  {
   "cell_type": "code",
   "execution_count": null,
   "metadata": {},
   "outputs": [],
   "source": []
  }
 ],
 "metadata": {
  "anaconda-cloud": {},
  "kernelspec": {
   "display_name": "torch_kernel",
   "language": "python",
   "name": "torch_kernel"
  },
  "language_info": {
   "codemirror_mode": {
    "name": "ipython",
    "version": 3
   },
   "file_extension": ".py",
   "mimetype": "text/x-python",
   "name": "python",
   "nbconvert_exporter": "python",
   "pygments_lexer": "ipython3",
   "version": "3.12.6"
  },
  "nbTranslate": {
   "displayLangs": [
    "en",
    "es"
   ],
   "hotkey": "alt-t",
   "langInMainMenu": true,
   "sourceLang": "es",
   "targetLang": "en",
   "useGoogleTranslate": true
  },
  "toc": {
   "nav_menu": {
    "height": "86px",
    "width": "252px"
   },
   "number_sections": true,
   "sideBar": true,
   "skip_h1_title": false,
   "title_cell": "Table of Contents",
   "title_sidebar": "Contents",
   "toc_cell": false,
   "toc_position": {},
   "toc_section_display": "block",
   "toc_window_display": false
  }
 },
 "nbformat": 4,
 "nbformat_minor": 4
}
