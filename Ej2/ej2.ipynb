{
 "cells": [
  {
   "cell_type": "markdown",
   "metadata": {},
   "source": [
    "<div id=\"navegacion\" prev=\"../Tema_4/t4_funciones_02.html\" \n",
    "                     next=\"\"></div>\n",
    "\n",
    "<div class=\"section-title\">Sección 2.5</div>"
   ]
  },
  {
   "cell_type": "markdown",
   "metadata": {},
   "source": [
    "#  Ejercicios "
   ]
  },
  {
   "cell_type": "markdown",
   "metadata": {},
   "source": [
    "##  Ejercicio 1"
   ]
  },
  {
   "cell_type": "markdown",
   "metadata": {},
   "source": [
    "__(a)__ Utiliza la función `range` para generar la __lista__ de numeros pares con inicio 100 y fin 150. Ambos inclusive. \n",
    "\n",
    "__(b)__ Utiliza la función `range` para generar la __tupla__ de numeros múltiplos de 3 con inicio 99 y fin 78. Ambos inclusive. El resultado será: `(99, 96, 93, 90, 87, 84, 81, 78)`.\n"
   ]
  },
  {
   "cell_type": "code",
   "execution_count": 2,
   "metadata": {
    "ExecuteTime": {
     "end_time": "2018-10-25T16:05:13.741616Z",
     "start_time": "2018-10-25T16:05:13.736631Z"
    }
   },
   "outputs": [
    {
     "data": {
      "text/plain": [
       "[100,\n",
       " 102,\n",
       " 104,\n",
       " 106,\n",
       " 108,\n",
       " 110,\n",
       " 112,\n",
       " 114,\n",
       " 116,\n",
       " 118,\n",
       " 120,\n",
       " 122,\n",
       " 124,\n",
       " 126,\n",
       " 128,\n",
       " 130,\n",
       " 132,\n",
       " 134,\n",
       " 136,\n",
       " 138,\n",
       " 140,\n",
       " 142,\n",
       " 144,\n",
       " 146,\n",
       " 148,\n",
       " 150]"
      ]
     },
     "execution_count": 2,
     "metadata": {},
     "output_type": "execute_result"
    }
   ],
   "source": [
    "# Sol a) \n",
    "list(range(100, 151, 2))"
   ]
  },
  {
   "cell_type": "code",
   "execution_count": 3,
   "metadata": {
    "ExecuteTime": {
     "end_time": "2018-10-25T16:05:13.741616Z",
     "start_time": "2018-10-25T16:05:13.736631Z"
    }
   },
   "outputs": [
    {
     "data": {
      "text/plain": [
       "[99, 96, 93, 90, 87, 84, 81, 78]"
      ]
     },
     "execution_count": 3,
     "metadata": {},
     "output_type": "execute_result"
    }
   ],
   "source": [
    "# Sol b) \n",
    "list(range(99, 77, -3))"
   ]
  },
  {
   "cell_type": "markdown",
   "metadata": {},
   "source": [
    "## Ejercicio 2\n",
    "\n",
    "Los ejemplos presentados en la Sección 2.3 te ayudarán a resolver el siguiente ejercicio.\n",
    "\n",
    "El siguiente diccionario representa algunos de los datos de empleados (NIF's y otros datos personales) de una empresa:"
   ]
  },
  {
   "cell_type": "code",
   "execution_count": 14,
   "metadata": {},
   "outputs": [],
   "source": [
    "personal = {\n",
    " '09514247N': {\"perfil\": [\"desarrollador de software\",\"cocina\" ],\n",
    "               'edad': 28,\n",
    "               'salario': 35000,\n",
    "               \"incorporación\": 2005,\n",
    "               \"empresa_ant\": \"IBM\",\n",
    "               \"pais\": \"España\"},\n",
    " '12547895E': {\"perfil\": [\"desarrollador de software\", \"control de calidad\"  ],\n",
    "               'edad': 28,\n",
    "               'salario': 28000,\n",
    "               \"pais\": \"España\"},\n",
    " '01235842B': {\"perfil\": [ \"gestión logística\",\"control de calidad\", \"transporte\"],\n",
    "               'edad': 28,\n",
    "               'salario': 47000,\n",
    "               \"empresa_ant\": \"Amazon\",\n",
    "               \"pais\": \"España\"},\n",
    " '47854141S': {\"perfil\": [ \"inventario\",\"control de calidad\", \"gestión de proyectos\"  ],\n",
    "               'edad': 28,\n",
    "               'salario': 50000,\n",
    "               \"incorporación\": 2000,\n",
    "               \"pais\": \"España\"},\n",
    " '12345678G': {'edad': 28,\n",
    "               'salario': 62000,\n",
    "               \"pais\": \"España\"},\n",
    " '56789023T': {\"perfil\": [\"desarrollador de videojuegos\" ],\n",
    "               'edad': 28,\n",
    "               'salario': 29000,\n",
    "               \"pais\": \"España\"}\n",
    "}"
   ]
  },
  {
   "cell_type": "markdown",
   "metadata": {
    "ExecuteTime": {
     "end_time": "2018-10-25T16:17:48.330151Z",
     "start_time": "2018-10-25T16:17:48.323168Z"
    }
   },
   "source": [
    "(a) Escribe las instrucciones necesarias para recuperar la lista de todos los NIFs. Observa que el dato del NIF se encuentra en la claves del diccionario `personal`."
   ]
  },
  {
   "cell_type": "code",
   "execution_count": 6,
   "metadata": {},
   "outputs": [
    {
     "name": "stdout",
     "output_type": "stream",
     "text": [
      "09514247N\n",
      "12547895E\n",
      "01235842B\n",
      "47854141S\n",
      "12345678G\n",
      "56789023T\n"
     ]
    }
   ],
   "source": [
    "# Sol: \n",
    "for nif in personal:\n",
    "    print(nif)"
   ]
  },
  {
   "cell_type": "markdown",
   "metadata": {},
   "source": [
    "(b) Escribe la instrucción que devuelve la edad de la persona con NIF `01235842B`."
   ]
  },
  {
   "cell_type": "code",
   "execution_count": 10,
   "metadata": {},
   "outputs": [
    {
     "name": "stdout",
     "output_type": "stream",
     "text": [
      "28\n"
     ]
    }
   ],
   "source": [
    "# Sol: \n",
    "nif='01235842B'\n",
    "\n",
    "if(nif in personal):\n",
    "    print(personal[nif][\"edad\"])\n",
    "else:\n",
    "    print(\"Nif inválido\")\n"
   ]
  },
  {
   "cell_type": "markdown",
   "metadata": {},
   "source": [
    "(c) Sube el salario en un 10% al empleado con NIF `56789023T`."
   ]
  },
  {
   "cell_type": "code",
   "execution_count": 15,
   "metadata": {},
   "outputs": [
    {
     "name": "stdout",
     "output_type": "stream",
     "text": [
      "El salario nuevo de 56789023T es: 31900.000000000004\n"
     ]
    }
   ],
   "source": [
    "# Sol: \n",
    "\n",
    "nif='56789023T'\n",
    "\n",
    "if(nif in personal):\n",
    "    personal[nif][\"salario\"]*=1.1\n",
    "    \n",
    "else:\n",
    "    print(\"Nif inválido\")\n",
    "    \n",
    "print(\"El salario nuevo de\", nif, \"es:\" ,personal[nif][\"salario\"])\n",
    "\n"
   ]
  },
  {
   "cell_type": "markdown",
   "metadata": {},
   "source": [
    " ## Ejercicio 3\n",
    "\n",
    "Los contenidos presentados en la Sección 2.4 te ayudarán a resolver el siguiente ejercicio.\n",
    "\n",
    "(a) Construye una función llamada `incrementa_salario` que reciba como parámetro de entrada un valor numérico que representa un salario. La función devuelve el salario incrementado en un 10%.\n",
    "\n",
    "(b) Dada una lista de salarios, queremos incrementar cada uno de ellos en un 10%. Usa la función `aplicar_operacion` definida en la sección anterior para aplicar la función `incrementa_salario` definida en el apartado anterior, a una lista de salarios.\n",
    "\n",
    "(c) Crea la función lambda equivalente a la función creada en el apartado (a).\n",
    "\n",
    "__Ejemplos:__\n",
    "\n",
    "* `incrementa_salario(300) ` devuelve como resultado 330\n",
    "\n",
    "* `aplicar_operacion(incrementa_salario, [40000,15000,35000])`  devuelve como resultado la lista `[44000.0, 16500.0, 38500.0]`\n",
    "\n",
    "\n"
   ]
  },
  {
   "cell_type": "code",
   "execution_count": 19,
   "metadata": {
    "ExecuteTime": {
     "end_time": "2018-10-25T16:05:13.741616Z",
     "start_time": "2018-10-25T16:05:13.736631Z"
    }
   },
   "outputs": [],
   "source": [
    "# Función creada en la sección 2.4: \n",
    "def aplicar_operacion(f, m):\n",
    "    nueva_lista = []\n",
    "    for e in m:\n",
    "        resultado = f(e)\n",
    "        nueva_lista.append(resultado)\n",
    "    return nueva_lista"
   ]
  },
  {
   "cell_type": "code",
   "execution_count": 19,
   "metadata": {},
   "outputs": [
    {
     "data": {
      "text/plain": [
       "[44000.0, 16500.0, 38500.0]"
      ]
     },
     "execution_count": 19,
     "metadata": {},
     "output_type": "execute_result"
    }
   ],
   "source": [
    "# Sol: \n",
    "\n",
    "\n",
    "#a.\n",
    "\n",
    "def incrementa_salario(a):\n",
    "\n",
    "    return a*1.1\n",
    "\n",
    "\n",
    "#b.\n",
    "\n",
    "aplicar_operacion(incrementa_salario, salarios)\n",
    "\n",
    "\n",
    "#c.\n",
    "lambda x:x*1.1\n",
    "\n",
    "\n",
    "\n",
    "\n"
   ]
  },
  {
   "cell_type": "markdown",
   "metadata": {},
   "source": [
    "## Ejercicio 4\n",
    "\n",
    "Los ejemplos presentados en la Sección 2.4 te ayudarán a resolver el siguiente ejercicio.\n",
    "\n",
    "Dada una lista de direcciones, donde se dispone del código postal y del nombre de la localidad al que pertenece dicho código postal:\n",
    "\n",
    "```\n",
    "direcciones = ['28932 - Móstoles', '28210 - Valdemorillo', '28914 - Leganés' ]\n",
    "```\n",
    "se desea extraer el nombre de la localidad. Por ejemplo, a partir de la lista anterior, queremos obtener la lista:\n",
    "\n",
    "['Móstoles', 'Valdemorillo', 'Leganés' ]\n",
    "\n",
    "Para resolver este problema, tenemos que usar la función split de los strings, que permite dividir un string en partes."
   ]
  },
  {
   "cell_type": "code",
   "execution_count": 31,
   "metadata": {},
   "outputs": [
    {
     "name": "stdout",
     "output_type": "stream",
     "text": [
      "['Móstoles', 'Valdemorillo', 'Leganés']\n"
     ]
    }
   ],
   "source": [
    "# Sol: \n",
    "\n",
    "direcciones = ['28932 - Móstoles', '28210 - Valdemorillo', '28914 - Leganés' ]\n",
    "localidades= list(map(lambda x: x.split(\" - \")[1], direcciones))\n",
    "\n",
    "print(localidades)\n",
    "\n"
   ]
  },
  {
   "cell_type": "markdown",
   "metadata": {},
   "source": [
    "-------------------"
   ]
  }
 ],
 "metadata": {
  "anaconda-cloud": {},
  "kernelspec": {
   "display_name": "Python 3 (ipykernel)",
   "language": "python",
   "name": "python3"
  },
  "language_info": {
   "codemirror_mode": {
    "name": "ipython",
    "version": 3
   },
   "file_extension": ".py",
   "mimetype": "text/x-python",
   "name": "python",
   "nbconvert_exporter": "python",
   "pygments_lexer": "ipython3",
   "version": "3.11.5"
  },
  "nbTranslate": {
   "displayLangs": [
    "en",
    "es"
   ],
   "hotkey": "alt-t",
   "langInMainMenu": true,
   "sourceLang": "es",
   "targetLang": "en",
   "useGoogleTranslate": true
  },
  "toc": {
   "base_numbering": 1,
   "nav_menu": {
    "height": "161px",
    "width": "252px"
   },
   "number_sections": true,
   "sideBar": true,
   "skip_h1_title": false,
   "title_cell": "Table of Contents",
   "title_sidebar": "Contents",
   "toc_cell": false,
   "toc_position": {},
   "toc_section_display": "block",
   "toc_window_display": false
  }
 },
 "nbformat": 4,
 "nbformat_minor": 1
}
